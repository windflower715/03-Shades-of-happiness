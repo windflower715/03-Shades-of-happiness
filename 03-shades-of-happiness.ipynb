{
 "cells": [
  {
   "cell_type": "markdown",
   "metadata": {},
   "source": [
    "# Cleaning"
   ]
  },
  {
   "cell_type": "code",
   "execution_count": 1,
   "metadata": {},
   "outputs": [
    {
     "data": {
      "text/html": [
       "<script>requirejs.config({paths: { 'plotly': ['https://cdn.plot.ly/plotly-latest.min']},});if(!window.Plotly) {{require(['plotly'],function(plotly) {window.Plotly=plotly;});}}</script>"
      ],
      "text/vnd.plotly.v1+html": [
       "<script>requirejs.config({paths: { 'plotly': ['https://cdn.plot.ly/plotly-latest.min']},});if(!window.Plotly) {{require(['plotly'],function(plotly) {window.Plotly=plotly;});}}</script>"
      ]
     },
     "metadata": {},
     "output_type": "display_data"
    },
    {
     "name": "stderr",
     "output_type": "stream",
     "text": [
      "/Users/windflower715/anaconda/lib/python3.5/site-packages/sklearn/cross_validation.py:41: DeprecationWarning:\n",
      "\n",
      "This module was deprecated in version 0.18 in favor of the model_selection module into which all the refactored classes and functions are moved. Also note that the interface of the new CV iterators are different from that of this module. This module will be removed in 0.20.\n",
      "\n"
     ]
    }
   ],
   "source": [
    "import pandas as pd\n",
    "from sklearn.linear_model import LogisticRegression\n",
    "import pycountry\n",
    "import matplotlib.pyplot as plt\n",
    "import plotly.graph_objs as go\n",
    "from plotly.offline import download_plotlyjs, init_notebook_mode, plot, iplot\n",
    "init_notebook_mode(connected=True)\n",
    "import numpy as np\n",
    "import seaborn as sn\n",
    "\n",
    "from sklearn.preprocessing import normalize\n",
    "\n",
    "from sklearn.ensemble import RandomForestClassifier\n",
    "from sklearn.ensemble import RandomForestRegressor\n",
    "from sklearn.linear_model import LogisticRegression \n",
    "from sklearn.neighbors import KNeighborsClassifier\n",
    "from sklearn.naive_bayes import GaussianNB\n",
    "from sklearn.svm import SVC \n",
    "from sklearn.tree import DecisionTreeClassifier\n",
    "from sklearn.cross_validation import train_test_split\n",
    "\n",
    "from sklearn.metrics import accuracy_score\n",
    "from sklearn.metrics import precision_score\n",
    "from sklearn.metrics import f1_score\n",
    "from sklearn.metrics import recall_score\n",
    "from sklearn.metrics import auc\n",
    "from sklearn.metrics import roc_curve\n",
    "from collections import Counter\n",
    "\n",
    "plt.style.use('seaborn-deep')\n",
    "%matplotlib inline "
   ]
  },
  {
   "cell_type": "code",
   "execution_count": 2,
   "metadata": {},
   "outputs": [],
   "source": [
    "countryhappy = pd.read_csv('countryhappy.csv')\n",
    "indiv = pd.read_csv('indiv.csv')\n",
    "instance =  pd.read_csv('indivhappy.csv')"
   ]
  },
  {
   "cell_type": "code",
   "execution_count": 3,
   "metadata": {},
   "outputs": [],
   "source": [
    "#join the happy moments and demographic based on 'wid' column \n",
    "indivhappy =pd.merge(indiv, instance, on='wid')"
   ]
  },
  {
   "cell_type": "code",
   "execution_count": 4,
   "metadata": {},
   "outputs": [],
   "source": [
    "#rename the country column in indiv happy into countrycode\n",
    "indivhappy =indivhappy.rename(columns = {'country':'countrycode'})"
   ]
  },
  {
   "cell_type": "code",
   "execution_count": 5,
   "metadata": {},
   "outputs": [],
   "source": [
    "#drop all the na value in indivhappy dataframe\n",
    "indivhappy = indivhappy.dropna()"
   ]
  },
  {
   "cell_type": "code",
   "execution_count": 6,
   "metadata": {},
   "outputs": [
    {
     "data": {
      "text/html": [
       "<div>\n",
       "<style scoped>\n",
       "    .dataframe tbody tr th:only-of-type {\n",
       "        vertical-align: middle;\n",
       "    }\n",
       "\n",
       "    .dataframe tbody tr th {\n",
       "        vertical-align: top;\n",
       "    }\n",
       "\n",
       "    .dataframe thead th {\n",
       "        text-align: right;\n",
       "    }\n",
       "</style>\n",
       "<table border=\"1\" class=\"dataframe\">\n",
       "  <thead>\n",
       "    <tr style=\"text-align: right;\">\n",
       "      <th></th>\n",
       "      <th>wid</th>\n",
       "      <th>age</th>\n",
       "      <th>countrycode</th>\n",
       "      <th>gender</th>\n",
       "      <th>marital</th>\n",
       "      <th>parenthood</th>\n",
       "      <th>hmid</th>\n",
       "      <th>reflection_period</th>\n",
       "      <th>original_hm</th>\n",
       "      <th>cleaned_hm</th>\n",
       "      <th>modified</th>\n",
       "      <th>num_sentence</th>\n",
       "      <th>ground_truth_category</th>\n",
       "      <th>predicted_category</th>\n",
       "    </tr>\n",
       "  </thead>\n",
       "  <tbody>\n",
       "    <tr>\n",
       "      <th>1</th>\n",
       "      <td>1</td>\n",
       "      <td>37.0</td>\n",
       "      <td>USA</td>\n",
       "      <td>m</td>\n",
       "      <td>married</td>\n",
       "      <td>y</td>\n",
       "      <td>28054</td>\n",
       "      <td>24h</td>\n",
       "      <td>My mother called out of the blue to tell me ho...</td>\n",
       "      <td>My mother called out of the blue to tell me ho...</td>\n",
       "      <td>True</td>\n",
       "      <td>1</td>\n",
       "      <td>affection</td>\n",
       "      <td>affection</td>\n",
       "    </tr>\n",
       "    <tr>\n",
       "      <th>35</th>\n",
       "      <td>1</td>\n",
       "      <td>37.0</td>\n",
       "      <td>USA</td>\n",
       "      <td>m</td>\n",
       "      <td>married</td>\n",
       "      <td>y</td>\n",
       "      <td>57637</td>\n",
       "      <td>24h</td>\n",
       "      <td>I got to take the day off from my part time jo...</td>\n",
       "      <td>I got to take the day off from my part time jo...</td>\n",
       "      <td>True</td>\n",
       "      <td>1</td>\n",
       "      <td>affection</td>\n",
       "      <td>affection</td>\n",
       "    </tr>\n",
       "    <tr>\n",
       "      <th>38</th>\n",
       "      <td>1</td>\n",
       "      <td>37.0</td>\n",
       "      <td>USA</td>\n",
       "      <td>m</td>\n",
       "      <td>married</td>\n",
       "      <td>y</td>\n",
       "      <td>64498</td>\n",
       "      <td>3m</td>\n",
       "      <td>my son had a great time on his 8th birthday.</td>\n",
       "      <td>my son had a great time on his 8th birthday.</td>\n",
       "      <td>True</td>\n",
       "      <td>1</td>\n",
       "      <td>affection</td>\n",
       "      <td>affection</td>\n",
       "    </tr>\n",
       "    <tr>\n",
       "      <th>46</th>\n",
       "      <td>1</td>\n",
       "      <td>37.0</td>\n",
       "      <td>USA</td>\n",
       "      <td>m</td>\n",
       "      <td>married</td>\n",
       "      <td>y</td>\n",
       "      <td>80306</td>\n",
       "      <td>3m</td>\n",
       "      <td>I got to have a three day weekend which i spen...</td>\n",
       "      <td>I got to have a three day weekend which i spen...</td>\n",
       "      <td>True</td>\n",
       "      <td>1</td>\n",
       "      <td>affection</td>\n",
       "      <td>affection</td>\n",
       "    </tr>\n",
       "    <tr>\n",
       "      <th>51</th>\n",
       "      <td>1</td>\n",
       "      <td>37.0</td>\n",
       "      <td>USA</td>\n",
       "      <td>m</td>\n",
       "      <td>married</td>\n",
       "      <td>y</td>\n",
       "      <td>88307</td>\n",
       "      <td>3m</td>\n",
       "      <td>My fiance proposed to me in front of my family...</td>\n",
       "      <td>My fiance proposed to me in front of my family...</td>\n",
       "      <td>True</td>\n",
       "      <td>1</td>\n",
       "      <td>affection</td>\n",
       "      <td>affection</td>\n",
       "    </tr>\n",
       "  </tbody>\n",
       "</table>\n",
       "</div>"
      ],
      "text/plain": [
       "    wid   age countrycode gender  marital parenthood   hmid reflection_period  \\\n",
       "1     1  37.0         USA      m  married          y  28054               24h   \n",
       "35    1  37.0         USA      m  married          y  57637               24h   \n",
       "38    1  37.0         USA      m  married          y  64498                3m   \n",
       "46    1  37.0         USA      m  married          y  80306                3m   \n",
       "51    1  37.0         USA      m  married          y  88307                3m   \n",
       "\n",
       "                                          original_hm  \\\n",
       "1   My mother called out of the blue to tell me ho...   \n",
       "35  I got to take the day off from my part time jo...   \n",
       "38       my son had a great time on his 8th birthday.   \n",
       "46  I got to have a three day weekend which i spen...   \n",
       "51  My fiance proposed to me in front of my family...   \n",
       "\n",
       "                                           cleaned_hm  modified  num_sentence  \\\n",
       "1   My mother called out of the blue to tell me ho...      True             1   \n",
       "35  I got to take the day off from my part time jo...      True             1   \n",
       "38       my son had a great time on his 8th birthday.      True             1   \n",
       "46  I got to have a three day weekend which i spen...      True             1   \n",
       "51  My fiance proposed to me in front of my family...      True             1   \n",
       "\n",
       "   ground_truth_category predicted_category  \n",
       "1              affection          affection  \n",
       "35             affection          affection  \n",
       "38             affection          affection  \n",
       "46             affection          affection  \n",
       "51             affection          affection  "
      ]
     },
     "execution_count": 6,
     "metadata": {},
     "output_type": "execute_result"
    }
   ],
   "source": [
    "#indivhappy is a dataframe of each individual describing happy moments with demographic info \n",
    "indivhappy.head()"
   ]
  },
  {
   "cell_type": "code",
   "execution_count": 7,
   "metadata": {},
   "outputs": [
    {
     "data": {
      "text/plain": [
       "array(['USA', 'IND', 'VNM', 'THA', 'GBR', 'SRB', 'BGR', 'BRA', 'BGD',\n",
       "       'CAN', 'PRT', 'PHL', 'VEN', 'MKD', 'DOM', 'DNK', 'IDN', 'AUS',\n",
       "       'URY', 'JAM', 'EGY', 'DEU', 'KEN', 'MDA', 'IRL', 'NGA', 'ALB',\n",
       "       'MEX', 'TTO', 'KWT', 'RUS', 'LTU', 'PRI', 'SWE', 'PER', 'PAK',\n",
       "       'TUR', 'FRA', 'ARE', 'COL', 'ROU', 'ARM', 'MAC', 'SGP', 'UGA',\n",
       "       'NIC', 'JPN', 'GRC', 'TWN', 'FIN', 'GHA', 'NZL', 'NLD', 'ITA',\n",
       "       'AUT', 'LKA', 'KNA', 'POL', 'DZA', 'GMB', 'ASM', 'CZE', 'MLT',\n",
       "       'SVN', 'ZAF', 'ECU', 'CHL', 'LVA', 'ESP', 'NOR', 'MYS', 'CRI',\n",
       "       'UMI', 'ETH', 'TCA', 'BHS', 'ARG', 'GTM', 'HRV', 'BEL', 'EST',\n",
       "       'AFG', 'CYP', 'ISL'], dtype=object)"
      ]
     },
     "execution_count": 7,
     "metadata": {},
     "output_type": "execute_result"
    }
   ],
   "source": [
    "indivhappy.countrycode.unique()"
   ]
  },
  {
   "cell_type": "code",
   "execution_count": 8,
   "metadata": {},
   "outputs": [
    {
     "data": {
      "text/html": [
       "<div>\n",
       "<style scoped>\n",
       "    .dataframe tbody tr th:only-of-type {\n",
       "        vertical-align: middle;\n",
       "    }\n",
       "\n",
       "    .dataframe tbody tr th {\n",
       "        vertical-align: top;\n",
       "    }\n",
       "\n",
       "    .dataframe thead th {\n",
       "        text-align: right;\n",
       "    }\n",
       "</style>\n",
       "<table border=\"1\" class=\"dataframe\">\n",
       "  <thead>\n",
       "    <tr style=\"text-align: right;\">\n",
       "      <th></th>\n",
       "      <th>Country</th>\n",
       "      <th>Happiness.Rank</th>\n",
       "      <th>Happiness.Score</th>\n",
       "      <th>Whisker.high</th>\n",
       "      <th>Whisker.low</th>\n",
       "      <th>Economy..GDP.per.Capita.</th>\n",
       "      <th>Family</th>\n",
       "      <th>Health..Life.Expectancy.</th>\n",
       "      <th>Freedom</th>\n",
       "      <th>Generosity</th>\n",
       "      <th>Trust..Government.Corruption.</th>\n",
       "      <th>Dystopia.Residual</th>\n",
       "    </tr>\n",
       "  </thead>\n",
       "  <tbody>\n",
       "    <tr>\n",
       "      <th>0</th>\n",
       "      <td>Norway</td>\n",
       "      <td>1</td>\n",
       "      <td>7.537</td>\n",
       "      <td>7.594445</td>\n",
       "      <td>7.479556</td>\n",
       "      <td>1.616463</td>\n",
       "      <td>1.533524</td>\n",
       "      <td>0.796667</td>\n",
       "      <td>0.635423</td>\n",
       "      <td>0.362012</td>\n",
       "      <td>0.315964</td>\n",
       "      <td>2.277027</td>\n",
       "    </tr>\n",
       "    <tr>\n",
       "      <th>1</th>\n",
       "      <td>Denmark</td>\n",
       "      <td>2</td>\n",
       "      <td>7.522</td>\n",
       "      <td>7.581728</td>\n",
       "      <td>7.462272</td>\n",
       "      <td>1.482383</td>\n",
       "      <td>1.551122</td>\n",
       "      <td>0.792566</td>\n",
       "      <td>0.626007</td>\n",
       "      <td>0.355280</td>\n",
       "      <td>0.400770</td>\n",
       "      <td>2.313707</td>\n",
       "    </tr>\n",
       "    <tr>\n",
       "      <th>2</th>\n",
       "      <td>Iceland</td>\n",
       "      <td>3</td>\n",
       "      <td>7.504</td>\n",
       "      <td>7.622030</td>\n",
       "      <td>7.385970</td>\n",
       "      <td>1.480633</td>\n",
       "      <td>1.610574</td>\n",
       "      <td>0.833552</td>\n",
       "      <td>0.627163</td>\n",
       "      <td>0.475540</td>\n",
       "      <td>0.153527</td>\n",
       "      <td>2.322715</td>\n",
       "    </tr>\n",
       "    <tr>\n",
       "      <th>3</th>\n",
       "      <td>Switzerland</td>\n",
       "      <td>4</td>\n",
       "      <td>7.494</td>\n",
       "      <td>7.561772</td>\n",
       "      <td>7.426227</td>\n",
       "      <td>1.564980</td>\n",
       "      <td>1.516912</td>\n",
       "      <td>0.858131</td>\n",
       "      <td>0.620071</td>\n",
       "      <td>0.290549</td>\n",
       "      <td>0.367007</td>\n",
       "      <td>2.276716</td>\n",
       "    </tr>\n",
       "    <tr>\n",
       "      <th>4</th>\n",
       "      <td>Finland</td>\n",
       "      <td>5</td>\n",
       "      <td>7.469</td>\n",
       "      <td>7.527542</td>\n",
       "      <td>7.410458</td>\n",
       "      <td>1.443572</td>\n",
       "      <td>1.540247</td>\n",
       "      <td>0.809158</td>\n",
       "      <td>0.617951</td>\n",
       "      <td>0.245483</td>\n",
       "      <td>0.382612</td>\n",
       "      <td>2.430182</td>\n",
       "    </tr>\n",
       "  </tbody>\n",
       "</table>\n",
       "</div>"
      ],
      "text/plain": [
       "       Country  Happiness.Rank  Happiness.Score  Whisker.high  Whisker.low  \\\n",
       "0       Norway               1            7.537      7.594445     7.479556   \n",
       "1      Denmark               2            7.522      7.581728     7.462272   \n",
       "2      Iceland               3            7.504      7.622030     7.385970   \n",
       "3  Switzerland               4            7.494      7.561772     7.426227   \n",
       "4      Finland               5            7.469      7.527542     7.410458   \n",
       "\n",
       "   Economy..GDP.per.Capita.    Family  Health..Life.Expectancy.   Freedom  \\\n",
       "0                  1.616463  1.533524                  0.796667  0.635423   \n",
       "1                  1.482383  1.551122                  0.792566  0.626007   \n",
       "2                  1.480633  1.610574                  0.833552  0.627163   \n",
       "3                  1.564980  1.516912                  0.858131  0.620071   \n",
       "4                  1.443572  1.540247                  0.809158  0.617951   \n",
       "\n",
       "   Generosity  Trust..Government.Corruption.  Dystopia.Residual  \n",
       "0    0.362012                       0.315964           2.277027  \n",
       "1    0.355280                       0.400770           2.313707  \n",
       "2    0.475540                       0.153527           2.322715  \n",
       "3    0.290549                       0.367007           2.276716  \n",
       "4    0.245483                       0.382612           2.430182  "
      ]
     },
     "execution_count": 8,
     "metadata": {},
     "output_type": "execute_result"
    }
   ],
   "source": [
    "countryhappy.head()"
   ]
  },
  {
   "cell_type": "code",
   "execution_count": 9,
   "metadata": {},
   "outputs": [],
   "source": [
    "#now we need to join the countryhappy dataframe and indivhappy dataframe by coutrycode \n",
    "#to do that we need to look up the country code by country name using pycountry library\n",
    "\n",
    "codelist = []\n",
    "for i in list(countryhappy['Country']):\n",
    "    try:\n",
    "        code = pycountry.countries.get(name= i).alpha_3\n",
    "        codelist.append(code)\n",
    "    except:#when the country is not in pycountry, append the name of the country\n",
    "        codelist.append(i)"
   ]
  },
  {
   "cell_type": "code",
   "execution_count": 10,
   "metadata": {},
   "outputs": [],
   "source": [
    "#some of the country names are different in pycountry library and data.. so replacing them manually here..\n",
    "l1 = [i.replace('Czech Republic','CZE') for i in codelist ]\n",
    "l2 = [i.replace('Taiwan Province of China','CHN') for i in l1 ]\n",
    "l3 = [i.replace('Russia','RUS') for i in l2 ]\n",
    "l4 = [i.replace('South Korea','KOR') for i in l3 ]\n",
    "l5 = [i.replace('Moldova','MDA') for i in l4 ]\n",
    "l6 = [i.replace('Bolivia','BOL') for i in l5 ]\n",
    "l7 = [i.replace('Hong Kong S.A.R., China','CHN') for i in l6]\n",
    "l8 = [i.replace('Venezuela','VEN') for i in l7 ]\n",
    "l9 = [i.replace('Macedonia','MKD') for i in l8 ]\n",
    "l10 = [i.replace('Vietnam','VNM') for i in l9 ]\n",
    "l11 = [i.replace('Palestinian Territories','PSE') for i in l10]\n",
    "l12 = [i.replace('Ivory Coast','CIV') for i in l11 ]\n",
    "l13 = [i.replace('Syria','SYR') for i in l12 ]\n",
    "codelist = [i.replace('Tanzania','TZA') for i in l13 ]\n",
    "#yep I know this is a silly way to do it.. but we have a our country code list here! "
   ]
  },
  {
   "cell_type": "code",
   "execution_count": 11,
   "metadata": {
    "scrolled": false
   },
   "outputs": [],
   "source": [
    "#convert country code list into pandas series object, and add it to countryhappy dataframe \n",
    "codelist = pd.Series(codelist)\n",
    "countryhappy['countrycode'] = codelist.values"
   ]
  },
  {
   "cell_type": "code",
   "execution_count": 12,
   "metadata": {},
   "outputs": [
    {
     "data": {
      "text/plain": [
       "Index(['Country', 'Happiness.Rank', 'Happiness.Score', 'Whisker.high',\n",
       "       'Whisker.low', 'Economy..GDP.per.Capita.', 'Family',\n",
       "       'Health..Life.Expectancy.', 'Freedom', 'Generosity',\n",
       "       'Trust..Government.Corruption.', 'Dystopia.Residual', 'countrycode',\n",
       "       'wid', 'age', 'gender', 'marital', 'parenthood', 'hmid',\n",
       "       'reflection_period', 'original_hm', 'cleaned_hm', 'modified',\n",
       "       'num_sentence', 'ground_truth_category', 'predicted_category'],\n",
       "      dtype='object')"
      ]
     },
     "execution_count": 12,
     "metadata": {},
     "output_type": "execute_result"
    }
   ],
   "source": [
    "#join two dataframe on countrycode, finished first round of data cleaning! \n",
    "df =pd.merge(countryhappy, indivhappy, on = 'countrycode')\n",
    "df.columns"
   ]
  },
  {
   "cell_type": "markdown",
   "metadata": {},
   "source": [
    "# EDA"
   ]
  },
  {
   "cell_type": "code",
   "execution_count": 13,
   "metadata": {},
   "outputs": [
    {
     "data": {
      "text/plain": [
       "Text(0.5,1,'emotion count')"
      ]
     },
     "execution_count": 13,
     "metadata": {},
     "output_type": "execute_result"
    },
    {
     "data": {
      "image/png": "[encoded data removed]",
      "text/plain": [
       "<matplotlib.figure.Figure at 0x1a0c049f98>"
      ]
     },
     "metadata": {},
     "output_type": "display_data"
    }
   ],
   "source": [
    "#what's the ranks of emotion that makes people happy\n",
    "(df['predicted_category'].value_counts()).plot(kind = 'bar')\n",
    "plt.title('emotion count')"
   ]
  },
  {
   "cell_type": "code",
   "execution_count": 17,
   "metadata": {},
   "outputs": [
    {
     "data": {
      "text/plain": [
       "<matplotlib.axes._subplots.AxesSubplot at 0x1a0e8651d0>"
      ]
     },
     "execution_count": 17,
     "metadata": {},
     "output_type": "execute_result"
    },
    {
     "data": {
      "image/png": "[encoded data removed]",
      "text/plain": [
       "<matplotlib.figure.Figure at 0x1a0cea9a90>"
      ]
     },
     "metadata": {},
     "output_type": "display_data"
    }
   ],
   "source": [
    "#looking at individual's happiness by gender\n",
    "bygender = df.groupby('gender')['predicted_category'].value_counts()\n",
    "bygender\n",
    "\n",
    "_, ax = plt.subplots(3,1,figsize=(7.5,18))\n",
    "\n",
    "bygender.loc['f'].plot(x='index', kind='barh', ax=ax[0], title = 'female emotion category')\n",
    "bygender.loc['m'].plot(x='index', kind='barh', ax=ax[1], title = 'male emotion category')\n",
    "bygender.loc['o'].plot(x='index', kind='barh', ax=ax[2], title = 'others emotion category')"
   ]
  },
  {
   "cell_type": "code",
   "execution_count": 18,
   "metadata": {},
   "outputs": [
    {
     "data": {
      "text/plain": [
       "<matplotlib.axes._subplots.AxesSubplot at 0x1a0e8a9710>"
      ]
     },
     "execution_count": 18,
     "metadata": {},
     "output_type": "execute_result"
    },
    {
     "data": {
      "image/png": "[encoded data removed]",
      "text/plain": [
       "<matplotlib.figure.Figure at 0x1a0c0fb1d0>"
      ]
     },
     "metadata": {},
     "output_type": "display_data"
    }
   ],
   "source": [
    "df[df['Country'] == 'United States']['predicted_category'].value_counts().plot(kind = 'bar', title = 'United States')\n"
   ]
  },
  {
   "cell_type": "code",
   "execution_count": 19,
   "metadata": {},
   "outputs": [
    {
     "data": {
      "text/plain": [
       "<matplotlib.axes._subplots.AxesSubplot at 0x1a0e5585f8>"
      ]
     },
     "execution_count": 19,
     "metadata": {},
     "output_type": "execute_result"
    },
    {
     "data": {
      "image/png": "[encoded data removed]",
      "text/plain": [
       "<matplotlib.figure.Figure at 0x1a0e9e1470>"
      ]
     },
     "metadata": {},
     "output_type": "display_data"
    }
   ],
   "source": [
    "df[df['Country'] == 'Bangladesh']['predicted_category'].value_counts().plot(kind = 'bar', title = 'Bangladesh')"
   ]
  },
  {
   "cell_type": "code",
   "execution_count": 20,
   "metadata": {},
   "outputs": [
    {
     "data": {
      "text/plain": [
       "<matplotlib.axes._subplots.AxesSubplot at 0x1a0e8a9320>"
      ]
     },
     "execution_count": 20,
     "metadata": {},
     "output_type": "execute_result"
    },
    {
     "data": {
      "image/png": "[encoded data removed]",
      "text/plain": [
       "<matplotlib.figure.Figure at 0x1a0e9fee10>"
      ]
     },
     "metadata": {},
     "output_type": "display_data"
    }
   ],
   "source": [
    "df[df['Country'] == 'Canada']['predicted_category'].value_counts().plot(kind = 'bar', title = 'Canada')"
   ]
  },
  {
   "cell_type": "code",
   "execution_count": 21,
   "metadata": {},
   "outputs": [
    {
     "data": {
      "application/vnd.plotly.v1+json": {
       "data": [
        {
         "colorbar": {
          "title": "Happiness Rank"
         },
         "locationmode": "country names",
         "locations": [
          "Norway",
          "Denmark",
          "Iceland",
          "Switzerland",
          "Finland",
          "Netherlands",
          "Canada",
          "New Zealand",
          "Sweden",
          "Australia",
          "Israel",
          "Costa Rica",
          "Austria",
          "United States",
          "Ireland",
          "Germany",
          "Belgium",
          "Luxembourg",
          "United Kingdom",
          "Chile",
          "United Arab Emirates",
          "Brazil",
          "Czech Republic",
          "Argentina",
          "Mexico",
          "Singapore",
          "Malta",
          "Uruguay",
          "Guatemala",
          "Panama",
          "France",
          "Thailand",
          "Taiwan Province of China",
          "Spain",
          "Qatar",
          "Colombia",
          "Saudi Arabia",
          "Trinidad and Tobago",
          "Kuwait",
          "Slovakia",
          "Bahrain",
          "Malaysia",
          "Nicaragua",
          "Ecuador",
          "El Salvador",
          "Poland",
          "Uzbekistan",
          "Italy",
          "Russia",
          "Belize",
          "Japan",
          "Lithuania",
          "Algeria",
          "Latvia",
          "South Korea",
          "Moldova",
          "Romania",
          "Bolivia",
          "Turkmenistan",
          "Kazakhstan",
          "North Cyprus",
          "Slovenia",
          "Peru",
          "Mauritius",
          "Cyprus",
          "Estonia",
          "Belarus",
          "Libya",
          "Turkey",
          "Paraguay",
          "Hong Kong S.A.R., China",
          "Philippines",
          "Serbia",
          "Jordan",
          "Hungary",
          "Jamaica",
          "Croatia",
          "Kosovo",
          "China",
          "Pakistan",
          "Indonesia",
          "Venezuela",
          "Montenegro",
          "Morocco",
          "Azerbaijan",
          "Dominican Republic",
          "Greece",
          "Lebanon",
          "Portugal",
          "Bosnia and Herzegovina",
          "Honduras",
          "Macedonia",
          "Somalia",
          "Vietnam",
          "Nigeria",
          "Tajikistan",
          "Bhutan",
          "Kyrgyzstan",
          "Nepal",
          "Mongolia",
          "South Africa",
          "Tunisia",
          "Palestinian Territories",
          "Egypt",
          "Bulgaria",
          "Sierra Leone",
          "Cameroon",
          "Iran",
          "Albania",
          "Bangladesh",
          "Namibia",
          "Kenya",
          "Mozambique",
          "Myanmar",
          "Senegal",
          "Zambia",
          "Iraq",
          "Gabon",
          "Ethiopia",
          "Sri Lanka",
          "Armenia",
          "India",
          "Mauritania",
          "Congo (Brazzaville)",
          "Georgia",
          "Congo (Kinshasa)",
          "Mali",
          "Ivory Coast",
          "Cambodia",
          "Sudan",
          "Ghana",
          "Ukraine",
          "Uganda",
          "Burkina Faso",
          "Niger",
          "Malawi",
          "Chad",
          "Zimbabwe",
          "Lesotho",
          "Angola",
          "Afghanistan",
          "Botswana",
          "Benin",
          "Madagascar",
          "Haiti",
          "Yemen",
          "South Sudan",
          "Liberia",
          "Guinea",
          "Togo",
          "Rwanda",
          "Syria",
          "Tanzania",
          "Burundi",
          "Central African Republic"
         ],
         "text": [
          "Norway",
          "Denmark",
          "Iceland",
          "Switzerland",
          "Finland",
          "Netherlands",
          "Canada",
          "New Zealand",
          "Sweden",
          "Australia",
          "Israel",
          "Costa Rica",
          "Austria",
          "United States",
          "Ireland",
          "Germany",
          "Belgium",
          "Luxembourg",
          "United Kingdom",
          "Chile",
          "United Arab Emirates",
          "Brazil",
          "Czech Republic",
          "Argentina",
          "Mexico",
          "Singapore",
          "Malta",
          "Uruguay",
          "Guatemala",
          "Panama",
          "France",
          "Thailand",
          "Taiwan Province of China",
          "Spain",
          "Qatar",
          "Colombia",
          "Saudi Arabia",
          "Trinidad and Tobago",
          "Kuwait",
          "Slovakia",
          "Bahrain",
          "Malaysia",
          "Nicaragua",
          "Ecuador",
          "El Salvador",
          "Poland",
          "Uzbekistan",
          "Italy",
          "Russia",
          "Belize",
          "Japan",
          "Lithuania",
          "Algeria",
          "Latvia",
          "South Korea",
          "Moldova",
          "Romania",
          "Bolivia",
          "Turkmenistan",
          "Kazakhstan",
          "North Cyprus",
          "Slovenia",
          "Peru",
          "Mauritius",
          "Cyprus",
          "Estonia",
          "Belarus",
          "Libya",
          "Turkey",
          "Paraguay",
          "Hong Kong S.A.R., China",
          "Philippines",
          "Serbia",
          "Jordan",
          "Hungary",
          "Jamaica",
          "Croatia",
          "Kosovo",
          "China",
          "Pakistan",
          "Indonesia",
          "Venezuela",
          "Montenegro",
          "Morocco",
          "Azerbaijan",
          "Dominican Republic",
          "Greece",
          "Lebanon",
          "Portugal",
          "Bosnia and Herzegovina",
          "Honduras",
          "Macedonia",
          "Somalia",
          "Vietnam",
          "Nigeria",
          "Tajikistan",
          "Bhutan",
          "Kyrgyzstan",
          "Nepal",
          "Mongolia",
          "South Africa",
          "Tunisia",
          "Palestinian Territories",
          "Egypt",
          "Bulgaria",
          "Sierra Leone",
          "Cameroon",
          "Iran",
          "Albania",
          "Bangladesh",
          "Namibia",
          "Kenya",
          "Mozambique",
          "Myanmar",
          "Senegal",
          "Zambia",
          "Iraq",
          "Gabon",
          "Ethiopia",
          "Sri Lanka",
          "Armenia",
          "India",
          "Mauritania",
          "Congo (Brazzaville)",
          "Georgia",
          "Congo (Kinshasa)",
          "Mali",
          "Ivory Coast",
          "Cambodia",
          "Sudan",
          "Ghana",
          "Ukraine",
          "Uganda",
          "Burkina Faso",
          "Niger",
          "Malawi",
          "Chad",
          "Zimbabwe",
          "Lesotho",
          "Angola",
          "Afghanistan",
          "Botswana",
          "Benin",
          "Madagascar",
          "Haiti",
          "Yemen",
          "South Sudan",
          "Liberia",
          "Guinea",
          "Togo",
          "Rwanda",
          "Syria",
          "Tanzania",
          "Burundi",
          "Central African Republic"
         ],
         "type": "choropleth",
         "z": [
          1,
          2,
          3,
          4,
          5,
          6,
          7,
          8,
          9,
          10,
          11,
          12,
          13,
          14,
          15,
          16,
          17,
          18,
          19,
          20,
          21,
          22,
          23,
          24,
          25,
          26,
          27,
          28,
          29,
          30,
          31,
          32,
          33,
          34,
          35,
          36,
          37,
          38,
          39,
          40,
          41,
          42,
          43,
          44,
          45,
          46,
          47,
          48,
          49,
          50,
          51,
          52,
          53,
          54,
          55,
          56,
          57,
          58,
          59,
          60,
          61,
          62,
          63,
          64,
          65,
          66,
          67,
          68,
          69,
          70,
          71,
          72,
          73,
          74,
          75,
          76,
          77,
          78,
          79,
          80,
          81,
          82,
          83,
          84,
          85,
          86,
          87,
          88,
          89,
          90,
          91,
          92,
          93,
          94,
          95,
          96,
          97,
          98,
          99,
          100,
          101,
          102,
          103,
          104,
          105,
          106,
          107,
          108,
          109,
          110,
          111,
          112,
          113,
          114,
          115,
          116,
          117,
          118,
          119,
          120,
          121,
          122,
          123,
          124,
          125,
          126,
          127,
          128,
          129,
          130,
          131,
          132,
          133,
          134,
          135,
          136,
          137,
          138,
          139,
          140,
          141,
          142,
          143,
          144,
          145,
          146,
          147,
          148,
          149,
          150,
          151,
          152,
          153,
          154,
          155
         ]
        }
       ],
       "layout": {
        "geo": {
         "projection": {
          "type": "Mercator"
         },
         "showframe": false
        },
        "title": "Global CountryHappiness"
       }
      },
      "text/html": [
       "<div id=\"b6225ba6-1797-43f4-b5ce-f7448aec38c2\" style=\"height: 525px; width: 100%;\" class=\"plotly-graph-div\"></div><script type=\"text/javascript\">require([\"plotly\"], function(Plotly) { window.PLOTLYENV=window.PLOTLYENV || {};window.PLOTLYENV.BASE_URL=\"https://plot.ly\";Plotly.newPlot(\"b6225ba6-1797-43f4-b5ce-f7448aec38c2\", [{\"colorbar\": {\"title\": \"Happiness Rank\"}, \"type\": \"choropleth\", \"text\": [\"Norway\", \"Denmark\", \"Iceland\", \"Switzerland\", \"Finland\", \"Netherlands\", \"Canada\", \"New Zealand\", \"Sweden\", \"Australia\", \"Israel\", \"Costa Rica\", \"Austria\", \"United States\", \"Ireland\", \"Germany\", \"Belgium\", \"Luxembourg\", \"United Kingdom\", \"Chile\", \"United Arab Emirates\", \"Brazil\", \"Czech Republic\", \"Argentina\", \"Mexico\", \"Singapore\", \"Malta\", \"Uruguay\", \"Guatemala\", \"Panama\", \"France\", \"Thailand\", \"Taiwan Province of China\", \"Spain\", \"Qatar\", \"Colombia\", \"Saudi Arabia\", \"Trinidad and Tobago\", \"Kuwait\", \"Slovakia\", \"Bahrain\", \"Malaysia\", \"Nicaragua\", \"Ecuador\", \"El Salvador\", \"Poland\", \"Uzbekistan\", \"Italy\", \"Russia\", \"Belize\", \"Japan\", \"Lithuania\", \"Algeria\", \"Latvia\", \"South Korea\", \"Moldova\", \"Romania\", \"Bolivia\", \"Turkmenistan\", \"Kazakhstan\", \"North Cyprus\", \"Slovenia\", \"Peru\", \"Mauritius\", \"Cyprus\", \"Estonia\", \"Belarus\", \"Libya\", \"Turkey\", \"Paraguay\", \"Hong Kong S.A.R., China\", \"Philippines\", \"Serbia\", \"Jordan\", \"Hungary\", \"Jamaica\", \"Croatia\", \"Kosovo\", \"China\", \"Pakistan\", \"Indonesia\", \"Venezuela\", \"Montenegro\", \"Morocco\", \"Azerbaijan\", \"Dominican Republic\", \"Greece\", \"Lebanon\", \"Portugal\", \"Bosnia and Herzegovina\", \"Honduras\", \"Macedonia\", \"Somalia\", \"Vietnam\", \"Nigeria\", \"Tajikistan\", \"Bhutan\", \"Kyrgyzstan\", \"Nepal\", \"Mongolia\", \"South Africa\", \"Tunisia\", \"Palestinian Territories\", \"Egypt\", \"Bulgaria\", \"Sierra Leone\", \"Cameroon\", \"Iran\", \"Albania\", \"Bangladesh\", \"Namibia\", \"Kenya\", \"Mozambique\", \"Myanmar\", \"Senegal\", \"Zambia\", \"Iraq\", \"Gabon\", \"Ethiopia\", \"Sri Lanka\", \"Armenia\", \"India\", \"Mauritania\", \"Congo (Brazzaville)\", \"Georgia\", \"Congo (Kinshasa)\", \"Mali\", \"Ivory Coast\", \"Cambodia\", \"Sudan\", \"Ghana\", \"Ukraine\", \"Uganda\", \"Burkina Faso\", \"Niger\", \"Malawi\", \"Chad\", \"Zimbabwe\", \"Lesotho\", \"Angola\", \"Afghanistan\", \"Botswana\", \"Benin\", \"Madagascar\", \"Haiti\", \"Yemen\", \"South Sudan\", \"Liberia\", \"Guinea\", \"Togo\", \"Rwanda\", \"Syria\", \"Tanzania\", \"Burundi\", \"Central African Republic\"], \"z\": [1, 2, 3, 4, 5, 6, 7, 8, 9, 10, 11, 12, 13, 14, 15, 16, 17, 18, 19, 20, 21, 22, 23, 24, 25, 26, 27, 28, 29, 30, 31, 32, 33, 34, 35, 36, 37, 38, 39, 40, 41, 42, 43, 44, 45, 46, 47, 48, 49, 50, 51, 52, 53, 54, 55, 56, 57, 58, 59, 60, 61, 62, 63, 64, 65, 66, 67, 68, 69, 70, 71, 72, 73, 74, 75, 76, 77, 78, 79, 80, 81, 82, 83, 84, 85, 86, 87, 88, 89, 90, 91, 92, 93, 94, 95, 96, 97, 98, 99, 100, 101, 102, 103, 104, 105, 106, 107, 108, 109, 110, 111, 112, 113, 114, 115, 116, 117, 118, 119, 120, 121, 122, 123, 124, 125, 126, 127, 128, 129, 130, 131, 132, 133, 134, 135, 136, 137, 138, 139, 140, 141, 142, 143, 144, 145, 146, 147, 148, 149, 150, 151, 152, 153, 154, 155], \"locationmode\": \"country names\", \"locations\": [\"Norway\", \"Denmark\", \"Iceland\", \"Switzerland\", \"Finland\", \"Netherlands\", \"Canada\", \"New Zealand\", \"Sweden\", \"Australia\", \"Israel\", \"Costa Rica\", \"Austria\", \"United States\", \"Ireland\", \"Germany\", \"Belgium\", \"Luxembourg\", \"United Kingdom\", \"Chile\", \"United Arab Emirates\", \"Brazil\", \"Czech Republic\", \"Argentina\", \"Mexico\", \"Singapore\", \"Malta\", \"Uruguay\", \"Guatemala\", \"Panama\", \"France\", \"Thailand\", \"Taiwan Province of China\", \"Spain\", \"Qatar\", \"Colombia\", \"Saudi Arabia\", \"Trinidad and Tobago\", \"Kuwait\", \"Slovakia\", \"Bahrain\", \"Malaysia\", \"Nicaragua\", \"Ecuador\", \"El Salvador\", \"Poland\", \"Uzbekistan\", \"Italy\", \"Russia\", \"Belize\", \"Japan\", \"Lithuania\", \"Algeria\", \"Latvia\", \"South Korea\", \"Moldova\", \"Romania\", \"Bolivia\", \"Turkmenistan\", \"Kazakhstan\", \"North Cyprus\", \"Slovenia\", \"Peru\", \"Mauritius\", \"Cyprus\", \"Estonia\", \"Belarus\", \"Libya\", \"Turkey\", \"Paraguay\", \"Hong Kong S.A.R., China\", \"Philippines\", \"Serbia\", \"Jordan\", \"Hungary\", \"Jamaica\", \"Croatia\", \"Kosovo\", \"China\", \"Pakistan\", \"Indonesia\", \"Venezuela\", \"Montenegro\", \"Morocco\", \"Azerbaijan\", \"Dominican Republic\", \"Greece\", \"Lebanon\", \"Portugal\", \"Bosnia and Herzegovina\", \"Honduras\", \"Macedonia\", \"Somalia\", \"Vietnam\", \"Nigeria\", \"Tajikistan\", \"Bhutan\", \"Kyrgyzstan\", \"Nepal\", \"Mongolia\", \"South Africa\", \"Tunisia\", \"Palestinian Territories\", \"Egypt\", \"Bulgaria\", \"Sierra Leone\", \"Cameroon\", \"Iran\", \"Albania\", \"Bangladesh\", \"Namibia\", \"Kenya\", \"Mozambique\", \"Myanmar\", \"Senegal\", \"Zambia\", \"Iraq\", \"Gabon\", \"Ethiopia\", \"Sri Lanka\", \"Armenia\", \"India\", \"Mauritania\", \"Congo (Brazzaville)\", \"Georgia\", \"Congo (Kinshasa)\", \"Mali\", \"Ivory Coast\", \"Cambodia\", \"Sudan\", \"Ghana\", \"Ukraine\", \"Uganda\", \"Burkina Faso\", \"Niger\", \"Malawi\", \"Chad\", \"Zimbabwe\", \"Lesotho\", \"Angola\", \"Afghanistan\", \"Botswana\", \"Benin\", \"Madagascar\", \"Haiti\", \"Yemen\", \"South Sudan\", \"Liberia\", \"Guinea\", \"Togo\", \"Rwanda\", \"Syria\", \"Tanzania\", \"Burundi\", \"Central African Republic\"]}], {\"geo\": {\"projection\": {\"type\": \"Mercator\"}, \"showframe\": false}, \"title\": \"Global CountryHappiness\"}, {\"showLink\": true, \"linkText\": \"Export to plot.ly\"})});</script>"
      ],
      "text/vnd.plotly.v1+html": [
       "<div id=\"b6225ba6-1797-43f4-b5ce-f7448aec38c2\" style=\"height: 525px; width: 100%;\" class=\"plotly-graph-div\"></div><script type=\"text/javascript\">require([\"plotly\"], function(Plotly) { window.PLOTLYENV=window.PLOTLYENV || {};window.PLOTLYENV.BASE_URL=\"https://plot.ly\";Plotly.newPlot(\"b6225ba6-1797-43f4-b5ce-f7448aec38c2\", [{\"colorbar\": {\"title\": \"Happiness Rank\"}, \"type\": \"choropleth\", \"text\": [\"Norway\", \"Denmark\", \"Iceland\", \"Switzerland\", \"Finland\", \"Netherlands\", \"Canada\", \"New Zealand\", \"Sweden\", \"Australia\", \"Israel\", \"Costa Rica\", \"Austria\", \"United States\", \"Ireland\", \"Germany\", \"Belgium\", \"Luxembourg\", \"United Kingdom\", \"Chile\", \"United Arab Emirates\", \"Brazil\", \"Czech Republic\", \"Argentina\", \"Mexico\", \"Singapore\", \"Malta\", \"Uruguay\", \"Guatemala\", \"Panama\", \"France\", \"Thailand\", \"Taiwan Province of China\", \"Spain\", \"Qatar\", \"Colombia\", \"Saudi Arabia\", \"Trinidad and Tobago\", \"Kuwait\", \"Slovakia\", \"Bahrain\", \"Malaysia\", \"Nicaragua\", \"Ecuador\", \"El Salvador\", \"Poland\", \"Uzbekistan\", \"Italy\", \"Russia\", \"Belize\", \"Japan\", \"Lithuania\", \"Algeria\", \"Latvia\", \"South Korea\", \"Moldova\", \"Romania\", \"Bolivia\", \"Turkmenistan\", \"Kazakhstan\", \"North Cyprus\", \"Slovenia\", \"Peru\", \"Mauritius\", \"Cyprus\", \"Estonia\", \"Belarus\", \"Libya\", \"Turkey\", \"Paraguay\", \"Hong Kong S.A.R., China\", \"Philippines\", \"Serbia\", \"Jordan\", \"Hungary\", \"Jamaica\", \"Croatia\", \"Kosovo\", \"China\", \"Pakistan\", \"Indonesia\", \"Venezuela\", \"Montenegro\", \"Morocco\", \"Azerbaijan\", \"Dominican Republic\", \"Greece\", \"Lebanon\", \"Portugal\", \"Bosnia and Herzegovina\", \"Honduras\", \"Macedonia\", \"Somalia\", \"Vietnam\", \"Nigeria\", \"Tajikistan\", \"Bhutan\", \"Kyrgyzstan\", \"Nepal\", \"Mongolia\", \"South Africa\", \"Tunisia\", \"Palestinian Territories\", \"Egypt\", \"Bulgaria\", \"Sierra Leone\", \"Cameroon\", \"Iran\", \"Albania\", \"Bangladesh\", \"Namibia\", \"Kenya\", \"Mozambique\", \"Myanmar\", \"Senegal\", \"Zambia\", \"Iraq\", \"Gabon\", \"Ethiopia\", \"Sri Lanka\", \"Armenia\", \"India\", \"Mauritania\", \"Congo (Brazzaville)\", \"Georgia\", \"Congo (Kinshasa)\", \"Mali\", \"Ivory Coast\", \"Cambodia\", \"Sudan\", \"Ghana\", \"Ukraine\", \"Uganda\", \"Burkina Faso\", \"Niger\", \"Malawi\", \"Chad\", \"Zimbabwe\", \"Lesotho\", \"Angola\", \"Afghanistan\", \"Botswana\", \"Benin\", \"Madagascar\", \"Haiti\", \"Yemen\", \"South Sudan\", \"Liberia\", \"Guinea\", \"Togo\", \"Rwanda\", \"Syria\", \"Tanzania\", \"Burundi\", \"Central African Republic\"], \"z\": [1, 2, 3, 4, 5, 6, 7, 8, 9, 10, 11, 12, 13, 14, 15, 16, 17, 18, 19, 20, 21, 22, 23, 24, 25, 26, 27, 28, 29, 30, 31, 32, 33, 34, 35, 36, 37, 38, 39, 40, 41, 42, 43, 44, 45, 46, 47, 48, 49, 50, 51, 52, 53, 54, 55, 56, 57, 58, 59, 60, 61, 62, 63, 64, 65, 66, 67, 68, 69, 70, 71, 72, 73, 74, 75, 76, 77, 78, 79, 80, 81, 82, 83, 84, 85, 86, 87, 88, 89, 90, 91, 92, 93, 94, 95, 96, 97, 98, 99, 100, 101, 102, 103, 104, 105, 106, 107, 108, 109, 110, 111, 112, 113, 114, 115, 116, 117, 118, 119, 120, 121, 122, 123, 124, 125, 126, 127, 128, 129, 130, 131, 132, 133, 134, 135, 136, 137, 138, 139, 140, 141, 142, 143, 144, 145, 146, 147, 148, 149, 150, 151, 152, 153, 154, 155], \"locationmode\": \"country names\", \"locations\": [\"Norway\", \"Denmark\", \"Iceland\", \"Switzerland\", \"Finland\", \"Netherlands\", \"Canada\", \"New Zealand\", \"Sweden\", \"Australia\", \"Israel\", \"Costa Rica\", \"Austria\", \"United States\", \"Ireland\", \"Germany\", \"Belgium\", \"Luxembourg\", \"United Kingdom\", \"Chile\", \"United Arab Emirates\", \"Brazil\", \"Czech Republic\", \"Argentina\", \"Mexico\", \"Singapore\", \"Malta\", \"Uruguay\", \"Guatemala\", \"Panama\", \"France\", \"Thailand\", \"Taiwan Province of China\", \"Spain\", \"Qatar\", \"Colombia\", \"Saudi Arabia\", \"Trinidad and Tobago\", \"Kuwait\", \"Slovakia\", \"Bahrain\", \"Malaysia\", \"Nicaragua\", \"Ecuador\", \"El Salvador\", \"Poland\", \"Uzbekistan\", \"Italy\", \"Russia\", \"Belize\", \"Japan\", \"Lithuania\", \"Algeria\", \"Latvia\", \"South Korea\", \"Moldova\", \"Romania\", \"Bolivia\", \"Turkmenistan\", \"Kazakhstan\", \"North Cyprus\", \"Slovenia\", \"Peru\", \"Mauritius\", \"Cyprus\", \"Estonia\", \"Belarus\", \"Libya\", \"Turkey\", \"Paraguay\", \"Hong Kong S.A.R., China\", \"Philippines\", \"Serbia\", \"Jordan\", \"Hungary\", \"Jamaica\", \"Croatia\", \"Kosovo\", \"China\", \"Pakistan\", \"Indonesia\", \"Venezuela\", \"Montenegro\", \"Morocco\", \"Azerbaijan\", \"Dominican Republic\", \"Greece\", \"Lebanon\", \"Portugal\", \"Bosnia and Herzegovina\", \"Honduras\", \"Macedonia\", \"Somalia\", \"Vietnam\", \"Nigeria\", \"Tajikistan\", \"Bhutan\", \"Kyrgyzstan\", \"Nepal\", \"Mongolia\", \"South Africa\", \"Tunisia\", \"Palestinian Territories\", \"Egypt\", \"Bulgaria\", \"Sierra Leone\", \"Cameroon\", \"Iran\", \"Albania\", \"Bangladesh\", \"Namibia\", \"Kenya\", \"Mozambique\", \"Myanmar\", \"Senegal\", \"Zambia\", \"Iraq\", \"Gabon\", \"Ethiopia\", \"Sri Lanka\", \"Armenia\", \"India\", \"Mauritania\", \"Congo (Brazzaville)\", \"Georgia\", \"Congo (Kinshasa)\", \"Mali\", \"Ivory Coast\", \"Cambodia\", \"Sudan\", \"Ghana\", \"Ukraine\", \"Uganda\", \"Burkina Faso\", \"Niger\", \"Malawi\", \"Chad\", \"Zimbabwe\", \"Lesotho\", \"Angola\", \"Afghanistan\", \"Botswana\", \"Benin\", \"Madagascar\", \"Haiti\", \"Yemen\", \"South Sudan\", \"Liberia\", \"Guinea\", \"Togo\", \"Rwanda\", \"Syria\", \"Tanzania\", \"Burundi\", \"Central African Republic\"]}], {\"geo\": {\"projection\": {\"type\": \"Mercator\"}, \"showframe\": false}, \"title\": \"Global CountryHappiness\"}, {\"showLink\": true, \"linkText\": \"Export to plot.ly\"})});</script>"
      ]
     },
     "metadata": {},
     "output_type": "display_data"
    }
   ],
   "source": [
    "#visualizing country's happiness on global map\n",
    "data = dict(type = 'choropleth', \n",
    "           locations = countryhappy['Country'],\n",
    "           locationmode = 'country names',\n",
    "           z = countryhappy['Happiness.Rank'], \n",
    "           text = countryhappy['Country'],\n",
    "           colorbar = {'title':'Happiness Rank'})\n",
    "layout = dict(title = 'Global CountryHappiness', \n",
    "             geo = dict(showframe = False, \n",
    "                       projection = {'type': 'Mercator'}))\n",
    "choromap3 = go.Figure(data = [data], layout=layout)\n",
    "iplot(choromap3)"
   ]
  },
  {
   "cell_type": "markdown",
   "metadata": {},
   "source": [
    "# more cleaning"
   ]
  },
  {
   "cell_type": "code",
   "execution_count": 22,
   "metadata": {},
   "outputs": [
    {
     "data": {
      "text/html": [
       "<div>\n",
       "<style scoped>\n",
       "    .dataframe tbody tr th:only-of-type {\n",
       "        vertical-align: middle;\n",
       "    }\n",
       "\n",
       "    .dataframe tbody tr th {\n",
       "        vertical-align: top;\n",
       "    }\n",
       "\n",
       "    .dataframe thead th {\n",
       "        text-align: right;\n",
       "    }\n",
       "</style>\n",
       "<table border=\"1\" class=\"dataframe\">\n",
       "  <thead>\n",
       "    <tr style=\"text-align: right;\">\n",
       "      <th></th>\n",
       "      <th>country</th>\n",
       "      <th>happinessrank</th>\n",
       "      <th>happinessscore</th>\n",
       "      <th>whiskerhigh</th>\n",
       "      <th>whiskerlow</th>\n",
       "      <th>economygdppercapita</th>\n",
       "      <th>family</th>\n",
       "      <th>healthlifeexpectancy</th>\n",
       "      <th>freedom</th>\n",
       "      <th>generosity</th>\n",
       "      <th>...</th>\n",
       "      <th>marital</th>\n",
       "      <th>parenthood</th>\n",
       "      <th>hmid</th>\n",
       "      <th>reflectionperiod</th>\n",
       "      <th>originalhm</th>\n",
       "      <th>cleanedhm</th>\n",
       "      <th>modified</th>\n",
       "      <th>numsentence</th>\n",
       "      <th>groundtruthcategory</th>\n",
       "      <th>predictedcategory</th>\n",
       "    </tr>\n",
       "  </thead>\n",
       "  <tbody>\n",
       "    <tr>\n",
       "      <th>0</th>\n",
       "      <td>Norway</td>\n",
       "      <td>1</td>\n",
       "      <td>7.537</td>\n",
       "      <td>7.594445</td>\n",
       "      <td>7.479556</td>\n",
       "      <td>1.616463</td>\n",
       "      <td>1.533524</td>\n",
       "      <td>0.796667</td>\n",
       "      <td>0.635423</td>\n",
       "      <td>0.362012</td>\n",
       "      <td>...</td>\n",
       "      <td>1</td>\n",
       "      <td>0</td>\n",
       "      <td>113190</td>\n",
       "      <td>24h</td>\n",
       "      <td>I played an app design game and received a per...</td>\n",
       "      <td>I played an app design game and received a per...</td>\n",
       "      <td>True</td>\n",
       "      <td>1</td>\n",
       "      <td>achievement</td>\n",
       "      <td>achievement</td>\n",
       "    </tr>\n",
       "    <tr>\n",
       "      <th>1</th>\n",
       "      <td>Denmark</td>\n",
       "      <td>2</td>\n",
       "      <td>7.522</td>\n",
       "      <td>7.581728</td>\n",
       "      <td>7.462272</td>\n",
       "      <td>1.482383</td>\n",
       "      <td>1.551122</td>\n",
       "      <td>0.792566</td>\n",
       "      <td>0.626007</td>\n",
       "      <td>0.355280</td>\n",
       "      <td>...</td>\n",
       "      <td>1</td>\n",
       "      <td>0</td>\n",
       "      <td>27676</td>\n",
       "      <td>24h</td>\n",
       "      <td>We had a serious talk with some friends of our...</td>\n",
       "      <td>We had a serious talk with some friends of our...</td>\n",
       "      <td>True</td>\n",
       "      <td>2</td>\n",
       "      <td>bonding</td>\n",
       "      <td>bonding</td>\n",
       "    </tr>\n",
       "    <tr>\n",
       "      <th>2</th>\n",
       "      <td>Denmark</td>\n",
       "      <td>2</td>\n",
       "      <td>7.522</td>\n",
       "      <td>7.581728</td>\n",
       "      <td>7.462272</td>\n",
       "      <td>1.482383</td>\n",
       "      <td>1.551122</td>\n",
       "      <td>0.792566</td>\n",
       "      <td>0.626007</td>\n",
       "      <td>0.355280</td>\n",
       "      <td>...</td>\n",
       "      <td>1</td>\n",
       "      <td>0</td>\n",
       "      <td>49534</td>\n",
       "      <td>24h</td>\n",
       "      <td>I bought my wedding shoes!</td>\n",
       "      <td>I bought my wedding shoes!</td>\n",
       "      <td>True</td>\n",
       "      <td>1</td>\n",
       "      <td>achievement</td>\n",
       "      <td>achievement</td>\n",
       "    </tr>\n",
       "    <tr>\n",
       "      <th>3</th>\n",
       "      <td>Denmark</td>\n",
       "      <td>2</td>\n",
       "      <td>7.522</td>\n",
       "      <td>7.581728</td>\n",
       "      <td>7.462272</td>\n",
       "      <td>1.482383</td>\n",
       "      <td>1.551122</td>\n",
       "      <td>0.792566</td>\n",
       "      <td>0.626007</td>\n",
       "      <td>0.355280</td>\n",
       "      <td>...</td>\n",
       "      <td>1</td>\n",
       "      <td>0</td>\n",
       "      <td>52451</td>\n",
       "      <td>24h</td>\n",
       "      <td>My new watch arrived in the mail!</td>\n",
       "      <td>My new watch arrived in the mail!</td>\n",
       "      <td>True</td>\n",
       "      <td>1</td>\n",
       "      <td>achievement</td>\n",
       "      <td>achievement</td>\n",
       "    </tr>\n",
       "    <tr>\n",
       "      <th>4</th>\n",
       "      <td>Denmark</td>\n",
       "      <td>2</td>\n",
       "      <td>7.522</td>\n",
       "      <td>7.581728</td>\n",
       "      <td>7.462272</td>\n",
       "      <td>1.482383</td>\n",
       "      <td>1.551122</td>\n",
       "      <td>0.792566</td>\n",
       "      <td>0.626007</td>\n",
       "      <td>0.355280</td>\n",
       "      <td>...</td>\n",
       "      <td>1</td>\n",
       "      <td>0</td>\n",
       "      <td>84125</td>\n",
       "      <td>3m</td>\n",
       "      <td>We watched Rocky Horror Picture Show for the f...</td>\n",
       "      <td>We watched Rocky Horror Picture Show for the f...</td>\n",
       "      <td>True</td>\n",
       "      <td>1</td>\n",
       "      <td>leisure</td>\n",
       "      <td>leisure</td>\n",
       "    </tr>\n",
       "  </tbody>\n",
       "</table>\n",
       "<p>5 rows × 26 columns</p>\n",
       "</div>"
      ],
      "text/plain": [
       "   country  happinessrank  happinessscore  whiskerhigh  whiskerlow  \\\n",
       "0   Norway              1           7.537     7.594445    7.479556   \n",
       "1  Denmark              2           7.522     7.581728    7.462272   \n",
       "2  Denmark              2           7.522     7.581728    7.462272   \n",
       "3  Denmark              2           7.522     7.581728    7.462272   \n",
       "4  Denmark              2           7.522     7.581728    7.462272   \n",
       "\n",
       "   economygdppercapita    family  healthlifeexpectancy   freedom  generosity  \\\n",
       "0             1.616463  1.533524              0.796667  0.635423    0.362012   \n",
       "1             1.482383  1.551122              0.792566  0.626007    0.355280   \n",
       "2             1.482383  1.551122              0.792566  0.626007    0.355280   \n",
       "3             1.482383  1.551122              0.792566  0.626007    0.355280   \n",
       "4             1.482383  1.551122              0.792566  0.626007    0.355280   \n",
       "\n",
       "         ...         marital  parenthood    hmid  reflectionperiod  \\\n",
       "0        ...               1           0  113190               24h   \n",
       "1        ...               1           0   27676               24h   \n",
       "2        ...               1           0   49534               24h   \n",
       "3        ...               1           0   52451               24h   \n",
       "4        ...               1           0   84125                3m   \n",
       "\n",
       "                                          originalhm  \\\n",
       "0  I played an app design game and received a per...   \n",
       "1  We had a serious talk with some friends of our...   \n",
       "2                         I bought my wedding shoes!   \n",
       "3                  My new watch arrived in the mail!   \n",
       "4  We watched Rocky Horror Picture Show for the f...   \n",
       "\n",
       "                                           cleanedhm  modified  numsentence  \\\n",
       "0  I played an app design game and received a per...      True            1   \n",
       "1  We had a serious talk with some friends of our...      True            2   \n",
       "2                         I bought my wedding shoes!      True            1   \n",
       "3                  My new watch arrived in the mail!      True            1   \n",
       "4  We watched Rocky Horror Picture Show for the f...      True            1   \n",
       "\n",
       "   groundtruthcategory predictedcategory  \n",
       "0          achievement       achievement  \n",
       "1              bonding           bonding  \n",
       "2          achievement       achievement  \n",
       "3          achievement       achievement  \n",
       "4              leisure           leisure  \n",
       "\n",
       "[5 rows x 26 columns]"
      ]
     },
     "execution_count": 22,
     "metadata": {},
     "output_type": "execute_result"
    }
   ],
   "source": [
    "#cleaning the column names for caps, . and _\n",
    "df.columns =df.columns.str.replace('[^A-Za-z\\s]+','')\n",
    "df.columns= df.columns.str.lower()\n",
    "\n",
    "\n",
    "#convert gender(female 1), marital(married 1), parental(have kids 1) status to 0,1\n",
    "df1 =df.replace (['f','m','o','married','single','divorced','separated','widowed','y','n','prefer not to say','čá'],[1,0,0,1,0,0,0,0,1,0,28,28])\n",
    "df = df.replace(['y','n'],[1,0])\n",
    "df1.head()"
   ]
  },
  {
   "cell_type": "markdown",
   "metadata": {},
   "source": [
    "# Base model\n"
   ]
  },
  {
   "cell_type": "code",
   "execution_count": 23,
   "metadata": {},
   "outputs": [],
   "source": [
    "from sklearn.metrics import accuracy_score, classification_report"
   ]
  },
  {
   "cell_type": "code",
   "execution_count": 24,
   "metadata": {},
   "outputs": [],
   "source": [
    "y = df1['predictedcategory']\n",
    "X  = df1[['happinessscore','economygdppercapita', 'family', 'healthlifeexpectancy',\n",
    "       'freedom', 'generosity', 'trustgovernmentcorruption','age', 'gender', 'marital',\n",
    "       'parenthood']]\n",
    "X_train1,X_test1,y_train1,y_test1 = train_test_split(X,y, test_size = 0.3)"
   ]
  },
  {
   "cell_type": "code",
   "execution_count": 25,
   "metadata": {},
   "outputs": [],
   "source": [
    "#build a dataframe that stores the confusion matrix for data for different models \n",
    "\n",
    "def scorematrix(X_train,y_train,X_test,y_test):\n",
    "    models = [RandomForestClassifier(), GaussianNB(), SVC(class_weight = 'balanced'), KNeighborsClassifier(), LogisticRegression()]\n",
    "    modelnames = ['RandomForest', 'GaussianNB','SVC','Kneighbors','LogisticRegression']\n",
    "\n",
    "    scorenames = ['precision','recall','f1','accuracy']\n",
    "    precision = []\n",
    "    recall =[]\n",
    "    f1 = []\n",
    "    accuracy = []\n",
    "\n",
    "    for model in models:\n",
    "        model.fit(X_train,y_train)\n",
    "        y_pred = model.predict(X_test)\n",
    "        precision.append(precision_score(y_test,y_pred, average = 'weighted'))\n",
    "        recall.append(recall_score(y_test,y_pred,average = 'weighted'))\n",
    "        f1.append(f1_score(y_test,y_pred,average = 'weighted'))\n",
    "        accuracy.append(accuracy_score(y_test,y_pred))\n",
    "\n",
    "    scores_df = pd.DataFrame({'precision':precision,'recall':recall,'f1':f1,'accuracy':accuracy})\n",
    "    scores_df.set_index([modelnames], inplace = True)\n",
    "\n",
    "    return scores_df"
   ]
  },
  {
   "cell_type": "code",
   "execution_count": 26,
   "metadata": {},
   "outputs": [
    {
     "name": "stderr",
     "output_type": "stream",
     "text": [
      "/Users/windflower715/anaconda/lib/python3.5/site-packages/sklearn/metrics/classification.py:1135: UndefinedMetricWarning:\n",
      "\n",
      "Precision is ill-defined and being set to 0.0 in labels with no predicted samples.\n",
      "\n",
      "/Users/windflower715/anaconda/lib/python3.5/site-packages/sklearn/metrics/classification.py:1135: UndefinedMetricWarning:\n",
      "\n",
      "F-score is ill-defined and being set to 0.0 in labels with no predicted samples.\n",
      "\n"
     ]
    },
    {
     "data": {
      "text/html": [
       "<div>\n",
       "<style scoped>\n",
       "    .dataframe tbody tr th:only-of-type {\n",
       "        vertical-align: middle;\n",
       "    }\n",
       "\n",
       "    .dataframe tbody tr th {\n",
       "        vertical-align: top;\n",
       "    }\n",
       "\n",
       "    .dataframe thead th {\n",
       "        text-align: right;\n",
       "    }\n",
       "</style>\n",
       "<table border=\"1\" class=\"dataframe\">\n",
       "  <thead>\n",
       "    <tr style=\"text-align: right;\">\n",
       "      <th></th>\n",
       "      <th>accuracy</th>\n",
       "      <th>f1</th>\n",
       "      <th>precision</th>\n",
       "      <th>recall</th>\n",
       "    </tr>\n",
       "  </thead>\n",
       "  <tbody>\n",
       "    <tr>\n",
       "      <th>RandomForest</th>\n",
       "      <td>0.397293</td>\n",
       "      <td>0.354089</td>\n",
       "      <td>0.376417</td>\n",
       "      <td>0.397293</td>\n",
       "    </tr>\n",
       "    <tr>\n",
       "      <th>GaussianNB</th>\n",
       "      <td>0.225362</td>\n",
       "      <td>0.231268</td>\n",
       "      <td>0.293764</td>\n",
       "      <td>0.225362</td>\n",
       "    </tr>\n",
       "    <tr>\n",
       "      <th>SVC</th>\n",
       "      <td>0.197103</td>\n",
       "      <td>0.234951</td>\n",
       "      <td>0.358092</td>\n",
       "      <td>0.197103</td>\n",
       "    </tr>\n",
       "    <tr>\n",
       "      <th>Kneighbors</th>\n",
       "      <td>0.348373</td>\n",
       "      <td>0.317627</td>\n",
       "      <td>0.318574</td>\n",
       "      <td>0.348373</td>\n",
       "    </tr>\n",
       "    <tr>\n",
       "      <th>LogisticRegression</th>\n",
       "      <td>0.393256</td>\n",
       "      <td>0.308983</td>\n",
       "      <td>0.254455</td>\n",
       "      <td>0.393256</td>\n",
       "    </tr>\n",
       "  </tbody>\n",
       "</table>\n",
       "</div>"
      ],
      "text/plain": [
       "                    accuracy        f1  precision    recall\n",
       "RandomForest        0.397293  0.354089   0.376417  0.397293\n",
       "GaussianNB          0.225362  0.231268   0.293764  0.225362\n",
       "SVC                 0.197103  0.234951   0.358092  0.197103\n",
       "Kneighbors          0.348373  0.317627   0.318574  0.348373\n",
       "LogisticRegression  0.393256  0.308983   0.254455  0.393256"
      ]
     },
     "execution_count": 26,
     "metadata": {},
     "output_type": "execute_result"
    }
   ],
   "source": [
    "scorematrix(X_train1,y_train1,X_test1,y_test1)"
   ]
  },
  {
   "cell_type": "markdown",
   "metadata": {},
   "source": [
    "# Improve my model\n",
    "1. add features(vectorized text) 2. resampling data 3. gridsearch(optimize my parameters)\n"
   ]
  },
  {
   "cell_type": "markdown",
   "metadata": {},
   "source": [
    "1. add vectorized text "
   ]
  },
  {
   "cell_type": "code",
   "execution_count": 27,
   "metadata": {
    "scrolled": true
   },
   "outputs": [],
   "source": [
    "#convert the cleanedhm column text into 100 additional features\n",
    "from sklearn.feature_extraction.text import CountVectorizer\n",
    "from sklearn.decomposition import NMF\n",
    "\n",
    "vectorizer = CountVectorizer()\n",
    "newf = vectorizer.fit_transform(df['cleanedhm'])\n",
    "newf2 = NMF(n_components = 100)\n",
    "nmf_mat=newf2.fit_transform(newf)#create topics"
   ]
  },
  {
   "cell_type": "code",
   "execution_count": 28,
   "metadata": {},
   "outputs": [],
   "source": [
    "newf2.components_\n",
    "vecfeatures =vectorizer.get_feature_names()"
   ]
  },
  {
   "cell_type": "code",
   "execution_count": 29,
   "metadata": {},
   "outputs": [],
   "source": [
    "#extract vectorized top topics in words\n",
    "def toptopics(model, feature_names, n_top_words):\n",
    "    toptopics = {}\n",
    "    for topic_idx, topic in enumerate(model.components_):\n",
    "        message = \"Topic #%d: \" % topic_idx\n",
    "        message += \", \".join([feature_names[i]\n",
    "                            for i in topic.argsort()[:-n_top_words - 1:-1]])\n",
    "        toptopics[topic_idx] = ([feature_names[i] for i in topic.argsort()[:-n_top_words - 1:-1]])\n",
    "    return toptopics"
   ]
  },
  {
   "cell_type": "code",
   "execution_count": 30,
   "metadata": {},
   "outputs": [],
   "source": [
    "#a list of topics for feature importance reference\n",
    "toptopics = toptopics(newf2,vecfeatures,10)"
   ]
  },
  {
   "cell_type": "code",
   "execution_count": 42,
   "metadata": {},
   "outputs": [
    {
     "name": "stdout",
     "output_type": "stream",
     "text": [
      "['my', 'husband', 'mom', 'favorite', 'dog', 'dad', 'girlfriend', 'office', 'boss', 'cat']\n",
      "['the', 'same', 'by', 'way', 'park', 'weather', 'sun', 'also', 'took', 'around']\n",
      "['and', 'other', 'joy', 'both', 'sit', 'healthy', 'spring', 'children', 'took', 'neighbor']\n"
     ]
    }
   ],
   "source": [
    "#some top topics that makes people happy\n",
    "print(toptopics[1])\n",
    "print(toptopics[2])\n",
    "print(toptopics[3])"
   ]
  },
  {
   "cell_type": "code",
   "execution_count": 43,
   "metadata": {},
   "outputs": [],
   "source": [
    "#append vectorized feature into original dataframe\n",
    "dfnewf2 = pd.DataFrame(nmf_mat)\n",
    "df2 = df1.merge(dfnewf2, left_index=True, right_index=True)"
   ]
  },
  {
   "cell_type": "code",
   "execution_count": 44,
   "metadata": {},
   "outputs": [],
   "source": [
    "X =df2.drop(['happinessrank','whiskerhigh','whiskerlow','dystopiaresidual', 'country','countrycode', 'wid',\n",
    "         'hmid', 'reflectionperiod', 'originalhm', 'cleanedhm','modified', 'numsentence', 'groundtruthcategory'\n",
    "         ,'predictedcategory'], axis = 1)\n",
    "y = df2.predictedcategory\n",
    "\n",
    "X_train,X_test,y_train,y_test = train_test_split(X,y, stratify=y ,test_size = 0.3)"
   ]
  },
  {
   "cell_type": "code",
   "execution_count": 45,
   "metadata": {},
   "outputs": [
    {
     "name": "stderr",
     "output_type": "stream",
     "text": [
      "/Users/windflower715/anaconda/lib/python3.5/site-packages/sklearn/metrics/classification.py:1135: UndefinedMetricWarning:\n",
      "\n",
      "Precision is ill-defined and being set to 0.0 in labels with no predicted samples.\n",
      "\n",
      "/Users/windflower715/anaconda/lib/python3.5/site-packages/sklearn/metrics/classification.py:1135: UndefinedMetricWarning:\n",
      "\n",
      "F-score is ill-defined and being set to 0.0 in labels with no predicted samples.\n",
      "\n"
     ]
    },
    {
     "data": {
      "text/html": [
       "<div>\n",
       "<style scoped>\n",
       "    .dataframe tbody tr th:only-of-type {\n",
       "        vertical-align: middle;\n",
       "    }\n",
       "\n",
       "    .dataframe tbody tr th {\n",
       "        vertical-align: top;\n",
       "    }\n",
       "\n",
       "    .dataframe thead th {\n",
       "        text-align: right;\n",
       "    }\n",
       "</style>\n",
       "<table border=\"1\" class=\"dataframe\">\n",
       "  <thead>\n",
       "    <tr style=\"text-align: right;\">\n",
       "      <th></th>\n",
       "      <th>accuracy</th>\n",
       "      <th>f1</th>\n",
       "      <th>precision</th>\n",
       "      <th>recall</th>\n",
       "    </tr>\n",
       "  </thead>\n",
       "  <tbody>\n",
       "    <tr>\n",
       "      <th>RandomForest</th>\n",
       "      <td>0.764664</td>\n",
       "      <td>0.748757</td>\n",
       "      <td>0.762928</td>\n",
       "      <td>0.764664</td>\n",
       "    </tr>\n",
       "    <tr>\n",
       "      <th>GaussianNB</th>\n",
       "      <td>0.354548</td>\n",
       "      <td>0.392170</td>\n",
       "      <td>0.607941</td>\n",
       "      <td>0.354548</td>\n",
       "    </tr>\n",
       "    <tr>\n",
       "      <th>SVC</th>\n",
       "      <td>0.168606</td>\n",
       "      <td>0.196015</td>\n",
       "      <td>0.320650</td>\n",
       "      <td>0.168606</td>\n",
       "    </tr>\n",
       "    <tr>\n",
       "      <th>Kneighbors</th>\n",
       "      <td>0.459273</td>\n",
       "      <td>0.437683</td>\n",
       "      <td>0.445765</td>\n",
       "      <td>0.459273</td>\n",
       "    </tr>\n",
       "    <tr>\n",
       "      <th>LogisticRegression</th>\n",
       "      <td>0.578010</td>\n",
       "      <td>0.514822</td>\n",
       "      <td>0.595667</td>\n",
       "      <td>0.578010</td>\n",
       "    </tr>\n",
       "  </tbody>\n",
       "</table>\n",
       "</div>"
      ],
      "text/plain": [
       "                    accuracy        f1  precision    recall\n",
       "RandomForest        0.764664  0.748757   0.762928  0.764664\n",
       "GaussianNB          0.354548  0.392170   0.607941  0.354548\n",
       "SVC                 0.168606  0.196015   0.320650  0.168606\n",
       "Kneighbors          0.459273  0.437683   0.445765  0.459273\n",
       "LogisticRegression  0.578010  0.514822   0.595667  0.578010"
      ]
     },
     "execution_count": 45,
     "metadata": {},
     "output_type": "execute_result"
    }
   ],
   "source": [
    "#scorematrix after adding word vectors as features\n",
    "#1.vectorized text boosted our score \n",
    "#2.random forest boosted the accuracy score\n",
    "scorematrix(X_train,y_train,X_test,y_test)"
   ]
  },
  {
   "cell_type": "code",
   "execution_count": 32,
   "metadata": {},
   "outputs": [
    {
     "name": "stdout",
     "output_type": "stream",
     "text": [
      "0.9923656351791531\n",
      "0.760389456186179\n",
      "                  precision    recall  f1-score   support\n",
      "\n",
      "     achievement       0.70      0.84      0.76      1282\n",
      "       affection       0.80      0.91      0.85      1466\n",
      "         bonding       0.92      0.79      0.85       514\n",
      "enjoy_the_moment       0.62      0.39      0.47       431\n",
      "        exercise       0.73      0.17      0.28        64\n",
      "         leisure       0.76      0.55      0.64       379\n",
      "          nature       0.55      0.08      0.14        75\n",
      "\n",
      "     avg / total       0.76      0.76      0.74      4211\n",
      "\n",
      "\n"
     ]
    }
   ],
   "source": [
    "#based on the score matrix above we will proceed with the random forest model \n",
    "rf = RandomForestClassifier()\n",
    "rf.fit(X_train,y_train)\n",
    "y_pred =rf.predict(X_train)\n",
    "print (accuracy_score(y_train,y_pred))\n",
    "y_pred =rf.predict(X_test)\n",
    "print (accuracy_score(y_test,y_pred))\n",
    "print(classification_report(y_test, y_pred))\n",
    "print()"
   ]
  },
  {
   "cell_type": "markdown",
   "metadata": {},
   "source": [
    "2.SMOTE - sampling"
   ]
  },
  {
   "cell_type": "code",
   "execution_count": 33,
   "metadata": {},
   "outputs": [],
   "source": [
    "#!pip install kmeans-smote\n",
    "from imblearn.over_sampling import SMOTE"
   ]
  },
  {
   "cell_type": "code",
   "execution_count": 34,
   "metadata": {},
   "outputs": [],
   "source": [
    "smote = SMOTE(kind = \"regular\")\n",
    "X_smtrain, y_smtrain = smote.fit_sample(X_train, y_train)"
   ]
  },
  {
   "cell_type": "code",
   "execution_count": 35,
   "metadata": {},
   "outputs": [
    {
     "name": "stdout",
     "output_type": "stream",
     "text": [
      "0.9978696741854637\n",
      "                  precision    recall  f1-score   support\n",
      "\n",
      "     achievement       0.99      1.00      1.00      3420\n",
      "       affection       0.99      1.00      1.00      3420\n",
      "         bonding       1.00      1.00      1.00      3420\n",
      "enjoy_the_moment       1.00      1.00      1.00      3420\n",
      "        exercise       1.00      1.00      1.00      3420\n",
      "         leisure       1.00      1.00      1.00      3420\n",
      "          nature       1.00      1.00      1.00      3420\n",
      "\n",
      "     avg / total       1.00      1.00      1.00     23940\n",
      "\n",
      "0.7468534789836143\n",
      "                  precision    recall  f1-score   support\n",
      "\n",
      "     achievement       0.70      0.79      0.74      1282\n",
      "       affection       0.83      0.85      0.84      1466\n",
      "         bonding       0.88      0.83      0.86       514\n",
      "enjoy_the_moment       0.50      0.49      0.49       431\n",
      "        exercise       0.53      0.33      0.40        64\n",
      "         leisure       0.76      0.59      0.66       379\n",
      "          nature       0.37      0.20      0.26        75\n",
      "\n",
      "     avg / total       0.74      0.75      0.74      4211\n",
      "\n",
      "\n"
     ]
    }
   ],
   "source": [
    "rf = RandomForestClassifier()\n",
    "rf.fit(X_smtrain,y_smtrain)\n",
    "y_pred =rf.predict(X_smtrain)\n",
    "print (accuracy_score(y_smtrain,y_pred))\n",
    "print (classification_report(y_smtrain, y_pred))\n",
    "y_pred =rf.predict(X_test)\n",
    "print (accuracy_score(y_test,y_pred))\n",
    "print(classification_report(y_test, y_pred))\n",
    "print()"
   ]
  },
  {
   "cell_type": "code",
   "execution_count": 36,
   "metadata": {},
   "outputs": [
    {
     "data": {
      "text/html": [
       "<div>\n",
       "<table border=\"1\" class=\"dataframe\">\n",
       "  <thead>\n",
       "    <tr style=\"text-align: right;\">\n",
       "      <th></th>\n",
       "      <th>accuracy</th>\n",
       "      <th>f1</th>\n",
       "      <th>precision</th>\n",
       "      <th>recall</th>\n",
       "    </tr>\n",
       "  </thead>\n",
       "  <tbody>\n",
       "    <tr>\n",
       "      <th>RandomForest</th>\n",
       "      <td>0.734980</td>\n",
       "      <td>0.729967</td>\n",
       "      <td>0.730024</td>\n",
       "      <td>0.734980</td>\n",
       "    </tr>\n",
       "    <tr>\n",
       "      <th>GaussianNB</th>\n",
       "      <td>0.414866</td>\n",
       "      <td>0.460982</td>\n",
       "      <td>0.633019</td>\n",
       "      <td>0.414866</td>\n",
       "    </tr>\n",
       "    <tr>\n",
       "      <th>SVC</th>\n",
       "      <td>0.225837</td>\n",
       "      <td>0.264072</td>\n",
       "      <td>0.346024</td>\n",
       "      <td>0.225837</td>\n",
       "    </tr>\n",
       "    <tr>\n",
       "      <th>Kneighbors</th>\n",
       "      <td>0.383519</td>\n",
       "      <td>0.406253</td>\n",
       "      <td>0.456102</td>\n",
       "      <td>0.383519</td>\n",
       "    </tr>\n",
       "    <tr>\n",
       "      <th>LogisticRegression</th>\n",
       "      <td>0.507955</td>\n",
       "      <td>0.545859</td>\n",
       "      <td>0.630944</td>\n",
       "      <td>0.507955</td>\n",
       "    </tr>\n",
       "  </tbody>\n",
       "</table>\n",
       "</div>"
      ],
      "text/plain": [
       "                    accuracy        f1  precision    recall\n",
       "RandomForest        0.734980  0.729967   0.730024  0.734980\n",
       "GaussianNB          0.414866  0.460982   0.633019  0.414866\n",
       "SVC                 0.225837  0.264072   0.346024  0.225837\n",
       "Kneighbors          0.383519  0.406253   0.456102  0.383519\n",
       "LogisticRegression  0.507955  0.545859   0.630944  0.507955"
      ]
     },
     "execution_count": 36,
     "metadata": {},
     "output_type": "execute_result"
    }
   ],
   "source": [
    "#scorematrix after adding word vectors as features\n",
    "scorematrix(X_smtrain,y_smtrain,X_test,y_test)"
   ]
  },
  {
   "cell_type": "markdown",
   "metadata": {},
   "source": [
    "3.Tuning hyperparameters for my randomforest "
   ]
  },
  {
   "cell_type": "code",
   "execution_count": 37,
   "metadata": {},
   "outputs": [],
   "source": [
    "from sklearn.model_selection import RandomizedSearchCV"
   ]
  },
  {
   "cell_type": "code",
   "execution_count": 38,
   "metadata": {},
   "outputs": [],
   "source": [
    "#tuning hyperparameters \n",
    "n_estimators = [int(x) for x in np.linspace(200,2000,10)]\n",
    "max_features = ['auto','sqrt']\n",
    "max_depths = [int(x) for x in np.linspace(10,110,10)]\n",
    "min_samples_split = [2, 5, 10]\n",
    "min_samples_leaf = [1,2,4]\n",
    "bootstrap = True\n",
    "\n",
    "#create your random grid'\n",
    "randomgrid  = {'n_estimators' :n_estimators,'max_features':max_features,'max_depths':max_depths,\n",
    "               'min_samples_split':min_samples_split,'min_samples_leaf':min_samples_leaf,\n",
    "              'bootstrap':bootstrap}"
   ]
  },
  {
   "cell_type": "code",
   "execution_count": 39,
   "metadata": {},
   "outputs": [],
   "source": [
    "# Number of trees in random forest\n",
    "n_estimators = [int(x) for x in np.linspace(start = 200, stop = 2000, num = 10)]\n",
    "# Number of features to consider at every split\n",
    "max_features = ['auto', 'sqrt']\n",
    "# Maximum number of levels in tree\n",
    "max_depth = [int(x) for x in np.linspace(10, 110, num = 11)]\n",
    "max_depth.append(None)\n",
    "# Minimum number of samples required to split a node\n",
    "min_samples_split = [2, 5, 10]\n",
    "# Minimum number of samples required at each leaf node\n",
    "min_samples_leaf = [1, 2, 4]\n",
    "# Method of selecting samples for training each tree\n",
    "bootstrap = [True, False]\n",
    "# Create the random grid\n",
    "random_grid = {'n_estimators': n_estimators,\n",
    "               'max_features': max_features,\n",
    "               'max_depth': max_depth,\n",
    "               'min_samples_split': min_samples_split,\n",
    "               'min_samples_leaf': min_samples_leaf,\n",
    "               'bootstrap': bootstrap}"
   ]
  },
  {
   "cell_type": "code",
   "execution_count": 40,
   "metadata": {},
   "outputs": [
    {
     "name": "stdout",
     "output_type": "stream",
     "text": [
      "Fitting 3 folds for each of 30 candidates, totalling 90 fits\n"
     ]
    },
    {
     "name": "stderr",
     "output_type": "stream",
     "text": [
      "[Parallel(n_jobs=1)]: Done  90 out of  90 | elapsed: 52.1min finished\n"
     ]
    },
    {
     "data": {
      "text/plain": [
       "RandomizedSearchCV(cv=3, error_score='raise',\n",
       "          estimator=RandomForestClassifier(bootstrap=True, class_weight=None, criterion='gini',\n",
       "            max_depth=None, max_features='auto', max_leaf_nodes=None,\n",
       "            min_impurity_decrease=0.0, min_impurity_split=None,\n",
       "            min_samples_leaf=1, min_samples_split=2,\n",
       "            min_weight_fraction_leaf=0.0, n_estimators=10, n_jobs=1,\n",
       "            oob_score=False, random_state=None, verbose=0,\n",
       "            warm_start=False),\n",
       "          fit_params=None, iid=True, n_iter=30, n_jobs=1,\n",
       "          param_distributions={'min_samples_split': [2, 5, 10], 'n_estimators': [200, 400, 600, 800, 1000, 1200, 1400, 1600, 1800, 2000], 'bootstrap': [True, False], 'min_samples_leaf': [1, 2, 4], 'max_features': ['auto', 'sqrt'], 'max_depth': [10, 20, 30, 40, 50, 60, 70, 80, 90, 100, 110, None]},\n",
       "          pre_dispatch='2*n_jobs', random_state=None, refit=True,\n",
       "          return_train_score='warn', scoring=None, verbose=1)"
      ]
     },
     "execution_count": 40,
     "metadata": {},
     "output_type": "execute_result"
    }
   ],
   "source": [
    "rf = RandomForestClassifier()\n",
    "# Random search of parameters, using 3 fold cross validation, \n",
    "# search across 100 different combinations, and use all available cores\n",
    "rf_random = RandomizedSearchCV(estimator = rf, param_distributions = random_grid, n_iter = 30, cv = 3, verbose=1)\n",
    "# Fit the random search model\n",
    "rf_random.fit(X_train,y_train)"
   ]
  },
  {
   "cell_type": "code",
   "execution_count": 41,
   "metadata": {},
   "outputs": [
    {
     "data": {
      "text/plain": [
       "{'bootstrap': False,\n",
       " 'max_depth': 60,\n",
       " 'max_features': 'sqrt',\n",
       " 'min_samples_leaf': 1,\n",
       " 'min_samples_split': 2,\n",
       " 'n_estimators': 1600}"
      ]
     },
     "execution_count": 41,
     "metadata": {},
     "output_type": "execute_result"
    }
   ],
   "source": [
    "rf_random.best_params_"
   ]
  },
  {
   "cell_type": "code",
   "execution_count": 42,
   "metadata": {},
   "outputs": [],
   "source": [
    "import pickle \n",
    "with open('rf_bestparam.pkl','wb') as picklefile:\n",
    "    pickle.dump(rf_random.best_params_,picklefile)   "
   ]
  },
  {
   "cell_type": "code",
   "execution_count": 43,
   "metadata": {},
   "outputs": [
    {
     "name": "stdout",
     "output_type": "stream",
     "text": [
      "                  precision    recall  f1-score   support\n",
      "\n",
      "     achievement       0.77      0.86      0.81      1282\n",
      "       affection       0.85      0.92      0.88      1466\n",
      "         bonding       0.92      0.85      0.88       514\n",
      "enjoy_the_moment       0.64      0.54      0.59       431\n",
      "        exercise       0.91      0.31      0.47        64\n",
      "         leisure       0.84      0.68      0.75       379\n",
      "          nature       0.65      0.27      0.38        75\n",
      "\n",
      "     avg / total       0.81      0.81      0.80      4211\n",
      "\n"
     ]
    }
   ],
   "source": [
    "#let's see the confusion matrix score after tuning\n",
    "rf = RandomForestClassifier(bootstrap = False, max_depth=30, max_features = 'sqrt',\n",
    "                           min_samples_leaf = 1, min_samples_split = 2, n_estimators =2000)\n",
    "rf.fit(X_smtrain,y_smtrain)\n",
    "y_pred = rf.predict(X_test)\n",
    "\n",
    "print(classification_report(y_test,y_pred))"
   ]
  },
  {
   "cell_type": "markdown",
   "metadata": {},
   "source": [
    "# 4.Evaluation and Interpretation\n",
    "1. confusion matrix  \n",
    "2. feature importance"
   ]
  },
  {
   "cell_type": "code",
   "execution_count": 44,
   "metadata": {
    "collapsed": true
   },
   "outputs": [],
   "source": [
    "from sklearn.metrics import confusion_matrix "
   ]
  },
  {
   "cell_type": "code",
   "execution_count": 45,
   "metadata": {},
   "outputs": [
    {
     "data": {
      "text/plain": [
       "0.810021372595583"
      ]
     },
     "execution_count": 45,
     "metadata": {},
     "output_type": "execute_result"
    }
   ],
   "source": [
    "cm = confusion_matrix(y_test,y_pred)\n",
    "accuracy_score(y_test,y_pred)"
   ]
  },
  {
   "cell_type": "code",
   "execution_count": 46,
   "metadata": {},
   "outputs": [
    {
     "data": {
      "text/plain": [
       "<matplotlib.axes._subplots.AxesSubplot at 0x11b3be400>"
      ]
     },
     "execution_count": 46,
     "metadata": {},
     "output_type": "execute_result"
    },
    {
     "data": {
      "image/png": "[encoded data removed]",
      "text/plain": [
       "<matplotlib.figure.Figure at 0x125b82c50>"
      ]
     },
     "metadata": {},
     "output_type": "display_data"
    }
   ],
   "source": [
    "df_cm = pd.DataFrame(cm, index = ['affection','achievement','bonding','enjoy_the_moment','leisure','nature','exercise'],\n",
    "                                 columns = ['affection','achievement','bonding','enjoy_the_moment','leisure','nature','exercise'])\n",
    "plt.figure (figsize = (10,7))\n",
    "sn.heatmap(df_cm,annot = True)"
   ]
  },
  {
   "cell_type": "markdown",
   "metadata": {
    "collapsed": true
   },
   "source": [
    "Feature importance"
   ]
  },
  {
   "cell_type": "code",
   "execution_count": 47,
   "metadata": {
    "collapsed": true
   },
   "outputs": [],
   "source": [
    "#let's take a look at the feature importance before adding vectorized text"
   ]
  },
  {
   "cell_type": "code",
   "execution_count": 48,
   "metadata": {
    "collapsed": true
   },
   "outputs": [],
   "source": [
    "rf.fit(X_train1,y_train1)\n",
    "importances = rf.feature_importances_\n"
   ]
  },
  {
   "cell_type": "code",
   "execution_count": 49,
   "metadata": {},
   "outputs": [
    {
     "data": {
      "text/plain": [
       "([<matplotlib.axis.XTick at 0x124dae128>,\n",
       "  <matplotlib.axis.XTick at 0x124dae4e0>,\n",
       "  <matplotlib.axis.XTick at 0x11f0460b8>,\n",
       "  <matplotlib.axis.XTick at 0x1207bbeb8>,\n",
       "  <matplotlib.axis.XTick at 0x1207c3748>,\n",
       "  <matplotlib.axis.XTick at 0x11e7ed358>,\n",
       "  <matplotlib.axis.XTick at 0x11e7edd68>,\n",
       "  <matplotlib.axis.XTick at 0x11e7e57b8>,\n",
       "  <matplotlib.axis.XTick at 0x11e7e2208>,\n",
       "  <matplotlib.axis.XTick at 0x11e7e2c18>,\n",
       "  <matplotlib.axis.XTick at 0x11e7da668>],\n",
       " <a list of 11 Text xticklabel objects>)"
      ]
     },
     "execution_count": 49,
     "metadata": {},
     "output_type": "execute_result"
    },
    {
     "data": {
      "image/png": "[encoded data removed]",
      "text/plain": [
       "<matplotlib.figure.Figure at 0x11f11ec50>"
      ]
     },
     "metadata": {},
     "output_type": "display_data"
    }
   ],
   "source": [
    "#feature importance before adding vectorized text\n",
    "flist = sorted([(v, list(X_train1.columns)[i]) for i,v in enumerate(importances)],reverse=True)\n",
    "fim1 = [i[0] for i in flist]\n",
    "fname =[i[1] for i in flist]\n",
    "plt.bar(np.linspace(1,11,11),fim1, align = 'center')\n",
    "plt.xticks(np.linspace(1,11,11),fname, rotation =90)"
   ]
  },
  {
   "cell_type": "code",
   "execution_count": 50,
   "metadata": {},
   "outputs": [],
   "source": [
    "#now let's take a look at the feature importance of the vectorized random forest model\n",
    "rf.fit(X_smtrain,y_smtrain)\n",
    "importances2 = rf.feature_importances_"
   ]
  },
  {
   "cell_type": "code",
   "execution_count": 51,
   "metadata": {},
   "outputs": [],
   "source": [
    "#vectorized feature importance list\n",
    "flist2 = sorted([(v, i) for i,v in enumerate(importances2)],reverse=True)\n",
    "#after adding vectorization, it seems that the text features dominated the importance feature"
   ]
  },
  {
   "cell_type": "code",
   "execution_count": 53,
   "metadata": {},
   "outputs": [
    {
     "name": "stdout",
     "output_type": "stream",
     "text": [
      "1 ['after', 'long', 'months', 'years', 'met', 'being', 'waiting', 'meet', 'days', 'seeing']\n",
      "2 ['to', 'going', 'do', 'go', 'decided', 'want', 'watch', 'take', 'eat', 'music']\n",
      "3 ['all', 'are', 'members', 'together', 'there', 'always', 'll', 'passed', 'ceremony', 'organized']\n",
      "4 ['wanted', 'just', 'life', 'as', 'grandma', 'really', 'her', 'has', 'did', 'years']\n",
      "5 ['one', 'favorite', 'another', 'best', 'students', 'events', 'shows', 'little', 'couldn', 'over']\n",
      "6 ['them', 'us', 'remember', 'never', 'if', 'wish', 'years', 'donat', 'florence', 'grandma']\n",
      "7 ['a3i', 'moment', 'not', 'she', 'doing', 'but', 'proud', 'enough', 'saving', 'which']\n",
      "8 ['my', 'mom', 'house', 'favorite', 'dog', 'dad', 'girlfriend', 'sister', 'office', 'best']\n",
      "9 ['friend', 'best', 'old', 'party', 'mine', 'met', 'marriage', 'seen', 'who', 'talked']\n",
      "10 ['which', 'few', 'there', 'other', 'blood', 'brought', 'quite', 'hours', 'needed', 'makes']\n"
     ]
    }
   ],
   "source": [
    "#top ten most popular topics\n",
    "vecindexlist = [i[1]-12 for i in flist2[:10]]\n",
    "topvecfeatures=[]\n",
    "for i in vecindexlist:\n",
    "    topvecfeatures.append(toptopics[i])\n",
    "    \n",
    "for index, item in enumerate(topvecfeatures, start = 1):\n",
    "    print(index, item)"
   ]
  },
  {
   "cell_type": "code",
   "execution_count": null,
   "metadata": {},
   "outputs": [],
   "source": [
    "#most insignificant features\n",
    "# 1. ['in', 'life', 'seen', 'past', 'while', 'months', 'law', 'mail', 'well', 've']\n",
    "# 2. ['so','much','excited','could','surprise','don','no','always','back','passed']\n",
    "# 3. ['able', 'to', 'being', 'car', 'do', 'sleep', 'enjoy', 'pay', 'off', 'buy']\n",
    "# 4. ['movement', 'happiest','person','as', 'time','completed','just','far','change','concerned']\n",
    "# 5. ['at','restaurant','lunch','store','local','gym','won','looked','raise','there']\n"
   ]
  },
  {
   "cell_type": "code",
   "execution_count": null,
   "metadata": {},
   "outputs": [],
   "source": []
  },
  {
   "cell_type": "markdown",
   "metadata": {},
   "source": [
    "# Application"
   ]
  },
  {
   "cell_type": "code",
   "execution_count": 52,
   "metadata": {},
   "outputs": [
    {
     "data": {
      "text/html": [
       "<div>\n",
       "<style scoped>\n",
       "    .dataframe tbody tr th:only-of-type {\n",
       "        vertical-align: middle;\n",
       "    }\n",
       "\n",
       "    .dataframe tbody tr th {\n",
       "        vertical-align: top;\n",
       "    }\n",
       "\n",
       "    .dataframe thead th {\n",
       "        text-align: right;\n",
       "    }\n",
       "</style>\n",
       "<table border=\"1\" class=\"dataframe\">\n",
       "  <thead>\n",
       "    <tr style=\"text-align: right;\">\n",
       "      <th></th>\n",
       "      <th>happinessscore</th>\n",
       "      <th>economygdppercapita</th>\n",
       "      <th>family</th>\n",
       "      <th>healthlifeexpectancy</th>\n",
       "      <th>freedom</th>\n",
       "      <th>generosity</th>\n",
       "      <th>trustgovernmentcorruption</th>\n",
       "      <th>age</th>\n",
       "      <th>gender</th>\n",
       "      <th>marital</th>\n",
       "      <th>parenthood</th>\n",
       "      <th>text</th>\n",
       "    </tr>\n",
       "  </thead>\n",
       "  <tbody>\n",
       "    <tr>\n",
       "      <th>0</th>\n",
       "      <td>6.993</td>\n",
       "      <td>1.546259</td>\n",
       "      <td>1.419921</td>\n",
       "      <td>0.774287</td>\n",
       "      <td>0.505741</td>\n",
       "      <td>0.392579</td>\n",
       "      <td>0.135639</td>\n",
       "      <td>71</td>\n",
       "      <td>0</td>\n",
       "      <td>1</td>\n",
       "      <td>1</td>\n",
       "      <td>Rep. Lou Barletta, a Great Republican from Pen...</td>\n",
       "    </tr>\n",
       "    <tr>\n",
       "      <th>1</th>\n",
       "      <td>6.993</td>\n",
       "      <td>1.546259</td>\n",
       "      <td>1.419921</td>\n",
       "      <td>0.774287</td>\n",
       "      <td>0.505741</td>\n",
       "      <td>0.392579</td>\n",
       "      <td>0.135639</td>\n",
       "      <td>71</td>\n",
       "      <td>0</td>\n",
       "      <td>1</td>\n",
       "      <td>1</td>\n",
       "      <td>In the “old days,” when good news was reported...</td>\n",
       "    </tr>\n",
       "    <tr>\n",
       "      <th>2</th>\n",
       "      <td>6.993</td>\n",
       "      <td>1.546259</td>\n",
       "      <td>1.419921</td>\n",
       "      <td>0.774287</td>\n",
       "      <td>0.505741</td>\n",
       "      <td>0.392579</td>\n",
       "      <td>0.135639</td>\n",
       "      <td>71</td>\n",
       "      <td>0</td>\n",
       "      <td>1</td>\n",
       "      <td>1</td>\n",
       "      <td>Will be heading over shortly to make remarks a...</td>\n",
       "    </tr>\n",
       "    <tr>\n",
       "      <th>3</th>\n",
       "      <td>6.993</td>\n",
       "      <td>1.546259</td>\n",
       "      <td>1.419921</td>\n",
       "      <td>0.774287</td>\n",
       "      <td>0.505741</td>\n",
       "      <td>0.392579</td>\n",
       "      <td>0.135639</td>\n",
       "      <td>71</td>\n",
       "      <td>0</td>\n",
       "      <td>1</td>\n",
       "      <td>1</td>\n",
       "      <td>The Budget Agreement today is so important for...</td>\n",
       "    </tr>\n",
       "    <tr>\n",
       "      <th>4</th>\n",
       "      <td>6.993</td>\n",
       "      <td>1.546259</td>\n",
       "      <td>1.419921</td>\n",
       "      <td>0.774287</td>\n",
       "      <td>0.505741</td>\n",
       "      <td>0.392579</td>\n",
       "      <td>0.135639</td>\n",
       "      <td>71</td>\n",
       "      <td>0</td>\n",
       "      <td>1</td>\n",
       "      <td>1</td>\n",
       "      <td>Representative Devin Nunes, a man of tremendou...</td>\n",
       "    </tr>\n",
       "  </tbody>\n",
       "</table>\n",
       "</div>"
      ],
      "text/plain": [
       "   happinessscore  economygdppercapita    family  healthlifeexpectancy  \\\n",
       "0           6.993             1.546259  1.419921              0.774287   \n",
       "1           6.993             1.546259  1.419921              0.774287   \n",
       "2           6.993             1.546259  1.419921              0.774287   \n",
       "3           6.993             1.546259  1.419921              0.774287   \n",
       "4           6.993             1.546259  1.419921              0.774287   \n",
       "\n",
       "    freedom  generosity  trustgovernmentcorruption  age  gender  marital  \\\n",
       "0  0.505741    0.392579                   0.135639   71       0        1   \n",
       "1  0.505741    0.392579                   0.135639   71       0        1   \n",
       "2  0.505741    0.392579                   0.135639   71       0        1   \n",
       "3  0.505741    0.392579                   0.135639   71       0        1   \n",
       "4  0.505741    0.392579                   0.135639   71       0        1   \n",
       "\n",
       "   parenthood                                              text   \n",
       "0           1  Rep. Lou Barletta, a Great Republican from Pen...  \n",
       "1           1  In the “old days,” when good news was reported...  \n",
       "2           1  Will be heading over shortly to make remarks a...  \n",
       "3           1  The Budget Agreement today is so important for...  \n",
       "4           1  Representative Devin Nunes, a man of tremendou...  "
      ]
     },
     "execution_count": 52,
     "metadata": {},
     "output_type": "execute_result"
    }
   ],
   "source": [
    "#let's try to use this model to predict donald trump's happy emotion category =\n",
    "celeb = pd.read_csv('donaltrump exp.csv')\n",
    "celeb.head()"
   ]
  },
  {
   "cell_type": "code",
   "execution_count": 53,
   "metadata": {},
   "outputs": [
    {
     "data": {
      "text/plain": [
       "Counter({'achievement': 72,\n",
       "         'affection': 12,\n",
       "         'bonding': 4,\n",
       "         'enjoy_the_moment': 9,\n",
       "         'leisure': 3})"
      ]
     },
     "execution_count": 53,
     "metadata": {},
     "output_type": "execute_result"
    }
   ],
   "source": [
    "vectorizer = CountVectorizer()\n",
    "newf = vectorizer.fit_transform(celeb['text '])\n",
    "newf2 = NMF(n_components = 100)\n",
    "nmf_mat=newf2.fit_transform(newf)#create topics\n",
    "\n",
    "newf2.components_\n",
    "vecfeatures =vectorizer.get_feature_names()\n",
    "\n",
    "def toptopics(model, feature_names, n_top_words):\n",
    "    toptopics = {}\n",
    "    for topic_idx, topic in enumerate(model.components_):\n",
    "        message = \"Topic #%d: \" % topic_idx\n",
    "        message += \", \".join([feature_names[i]\n",
    "                            for i in topic.argsort()[:-n_top_words - 1:-1]])\n",
    "        toptopics[topic_idx] = ([feature_names[i] for i in topic.argsort()[:-n_top_words - 1:-1]])\n",
    "    return toptopics\n",
    "\n",
    "toptopics = toptopics(newf2,vecfeatures,10)\n",
    "\n",
    "\n",
    "dfnewf2 = pd.DataFrame(nmf_mat)\n",
    "#append my vectorized word df into df1 to get my features\n",
    "df2 = celeb.merge(dfnewf2, left_index=True, right_index=True)\n",
    "df2.drop('text ', axis = 1, inplace = True)\n",
    "X_test = df2\n",
    "y_pred = rf.predict(X_test)\n",
    "Counter(list(y_pred))"
   ]
  },
  {
   "cell_type": "code",
   "execution_count": 56,
   "metadata": {},
   "outputs": [
    {
     "name": "stdout",
     "output_type": "stream",
     "text": [
      "1 ['to', 'in', 'rick', 'will', 'be', 'give', 'continue', 'congress', 'already', 'saccone']\n",
      "2 ['that', 'the', 'you', 'people', 'president', 'history', 'regulation', 've', 'wrote', 'stories']\n",
      "3 ['president', 'is', 'wow', 'badly', 'treated', 'obama', 'just', 'brother', 'malik', 'probably']\n",
      "4 ['the', 'good', 'and', 'in', 'of', 'about', 'rate', 'all', 'news', 'numbers']\n",
      "5 ['russia', 'after', 'rising', 'fact', 'despite', 'them', 'wages', 'nobody', 'year', 'numbers']\n",
      "6 ['that', 'we', 'have', 'are', 'wall', 'than', 'far', 'mountains', 'violent', 'rivers']\n",
      "7 ['at', 'foxnews', '10', 'ingrahamangle', 'interviewed', '00', 'will', 'by', 'enjoy', 'be']\n",
      "8 ['to', 'over', 'all', 'the', 'and', 'day', 'in', 'now', 'get', 'beautiful']\n",
      "9 ['in', 'at', 'from', 'saw', 'nyc', 'saturday', 'singing', 'awesome', 'ayrshire', 'club']\n",
      "10 ['that', 'to', 'news', 'pence', 'mate', 'chosen', '11', 'governor', 'vice', 'mike']\n"
     ]
    }
   ],
   "source": [
    "#let's take a look at the topic topics that makes Trump happy\n",
    "rf.fit(X_test, y_pred)\n",
    "importance = rf.feature_importances_ \n",
    "flist2 = sorted([(v, i) for i,v in enumerate(importance)],reverse=True)\n",
    "vecindexlist = [i[1]-12 for i in flist2[:10]]\n",
    "topvecfeatures=[]\n",
    "for i in vecindexlist:\n",
    "    topvecfeatures.append(toptopics[i])\n",
    "    \n",
    "for index, item in enumerate(topvecfeatures, start = 1):\n",
    "    print(index, item)"
   ]
  },
  {
   "cell_type": "code",
   "execution_count": null,
   "metadata": {},
   "outputs": [],
   "source": []
  },
  {
   "cell_type": "code",
   "execution_count": null,
   "metadata": {
    "collapsed": true
   },
   "outputs": [],
   "source": []
  }
 ],
 "metadata": {
  "anaconda-cloud": {},
  "kernelspec": {
   "display_name": "Python [Root]",
   "language": "python",
   "name": "Python [Root]"
  }
 },
 "nbformat": 4,
 "nbformat_minor": 1
}
